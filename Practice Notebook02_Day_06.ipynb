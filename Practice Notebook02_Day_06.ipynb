{
 "cells": [
  {
   "cell_type": "markdown",
   "id": "bc8ecf34",
   "metadata": {},
   "source": [
    "# Learn_Python_With_Baba_Ammar_Day_06\n",
    "---"
   ]
  },
  {
   "cell_type": "markdown",
   "id": "9cd5f59a",
   "metadata": {},
   "source": [
    "### Tittle \"Research Scholar\"\n",
    "### Name \"Muhammad Hasnain\"\n",
    "### Email \"mhasnain@ele.qau.edu.pk\"\n",
    "### Whats'p No \"+923006054928\"\n",
    "---"
   ]
  },
  {
   "cell_type": "markdown",
   "id": "f75db288",
   "metadata": {},
   "source": [
    "### 03 Covid_Fat_Supply_Quantity Data\n",
    "---"
   ]
  },
  {
   "cell_type": "code",
   "execution_count": 1,
   "id": "b5010f7e",
   "metadata": {},
   "outputs": [],
   "source": [
    "#In first step install all useful libraries and then run\n",
    "import numpy as np\n",
    "import matplotlib.pyplot as plt\n",
    "import pandas as pd\n",
    "import seaborn as sns"
   ]
  },
  {
   "cell_type": "code",
   "execution_count": 2,
   "id": "c82da9ae",
   "metadata": {},
   "outputs": [],
   "source": [
    "#In step one upload csv file and run"
   ]
  },
  {
   "cell_type": "code",
   "execution_count": 3,
   "id": "8cc57718",
   "metadata": {},
   "outputs": [
    {
     "data": {
      "text/html": [
       "<div>\n",
       "<style scoped>\n",
       "    .dataframe tbody tr th:only-of-type {\n",
       "        vertical-align: middle;\n",
       "    }\n",
       "\n",
       "    .dataframe tbody tr th {\n",
       "        vertical-align: top;\n",
       "    }\n",
       "\n",
       "    .dataframe thead th {\n",
       "        text-align: right;\n",
       "    }\n",
       "</style>\n",
       "<table border=\"1\" class=\"dataframe\">\n",
       "  <thead>\n",
       "    <tr style=\"text-align: right;\">\n",
       "      <th></th>\n",
       "      <th>Country</th>\n",
       "      <th>Alcoholic Beverages</th>\n",
       "      <th>Animal Products</th>\n",
       "      <th>Animal fats</th>\n",
       "      <th>Aquatic Products, Other</th>\n",
       "      <th>Cereals - Excluding Beer</th>\n",
       "      <th>Eggs</th>\n",
       "      <th>Fish, Seafood</th>\n",
       "      <th>Fruits - Excluding Wine</th>\n",
       "      <th>Meat</th>\n",
       "      <th>...</th>\n",
       "      <th>Vegetable Oils</th>\n",
       "      <th>Vegetables</th>\n",
       "      <th>Obesity</th>\n",
       "      <th>Undernourished</th>\n",
       "      <th>Confirmed</th>\n",
       "      <th>Deaths</th>\n",
       "      <th>Recovered</th>\n",
       "      <th>Active</th>\n",
       "      <th>Population</th>\n",
       "      <th>Unit (all except Population)</th>\n",
       "    </tr>\n",
       "  </thead>\n",
       "  <tbody>\n",
       "    <tr>\n",
       "      <th>0</th>\n",
       "      <td>Afghanistan</td>\n",
       "      <td>0.0</td>\n",
       "      <td>21.6397</td>\n",
       "      <td>6.2224</td>\n",
       "      <td>0.0</td>\n",
       "      <td>8.0353</td>\n",
       "      <td>0.6859</td>\n",
       "      <td>0.0327</td>\n",
       "      <td>0.4246</td>\n",
       "      <td>6.1244</td>\n",
       "      <td>...</td>\n",
       "      <td>17.0831</td>\n",
       "      <td>0.3593</td>\n",
       "      <td>4.5</td>\n",
       "      <td>29.8</td>\n",
       "      <td>0.142134</td>\n",
       "      <td>0.006186</td>\n",
       "      <td>0.123374</td>\n",
       "      <td>0.012574</td>\n",
       "      <td>38928000.0</td>\n",
       "      <td>%</td>\n",
       "    </tr>\n",
       "    <tr>\n",
       "      <th>1</th>\n",
       "      <td>Albania</td>\n",
       "      <td>0.0</td>\n",
       "      <td>32.0002</td>\n",
       "      <td>3.4172</td>\n",
       "      <td>0.0</td>\n",
       "      <td>2.6734</td>\n",
       "      <td>1.6448</td>\n",
       "      <td>0.1445</td>\n",
       "      <td>0.6418</td>\n",
       "      <td>8.7428</td>\n",
       "      <td>...</td>\n",
       "      <td>9.2443</td>\n",
       "      <td>0.6503</td>\n",
       "      <td>22.3</td>\n",
       "      <td>6.2</td>\n",
       "      <td>2.967301</td>\n",
       "      <td>0.050951</td>\n",
       "      <td>1.792636</td>\n",
       "      <td>1.123714</td>\n",
       "      <td>2838000.0</td>\n",
       "      <td>%</td>\n",
       "    </tr>\n",
       "    <tr>\n",
       "      <th>2</th>\n",
       "      <td>Algeria</td>\n",
       "      <td>0.0</td>\n",
       "      <td>14.4175</td>\n",
       "      <td>0.8972</td>\n",
       "      <td>0.0</td>\n",
       "      <td>4.2035</td>\n",
       "      <td>1.2171</td>\n",
       "      <td>0.2008</td>\n",
       "      <td>0.5772</td>\n",
       "      <td>3.8961</td>\n",
       "      <td>...</td>\n",
       "      <td>27.3606</td>\n",
       "      <td>0.5145</td>\n",
       "      <td>26.6</td>\n",
       "      <td>3.9</td>\n",
       "      <td>0.244897</td>\n",
       "      <td>0.006558</td>\n",
       "      <td>0.167572</td>\n",
       "      <td>0.070767</td>\n",
       "      <td>44357000.0</td>\n",
       "      <td>%</td>\n",
       "    </tr>\n",
       "    <tr>\n",
       "      <th>3</th>\n",
       "      <td>Angola</td>\n",
       "      <td>0.0</td>\n",
       "      <td>15.3041</td>\n",
       "      <td>1.3130</td>\n",
       "      <td>0.0</td>\n",
       "      <td>6.5545</td>\n",
       "      <td>0.1539</td>\n",
       "      <td>1.4155</td>\n",
       "      <td>0.3488</td>\n",
       "      <td>11.0268</td>\n",
       "      <td>...</td>\n",
       "      <td>22.4638</td>\n",
       "      <td>0.1231</td>\n",
       "      <td>6.8</td>\n",
       "      <td>25</td>\n",
       "      <td>0.061687</td>\n",
       "      <td>0.001461</td>\n",
       "      <td>0.056808</td>\n",
       "      <td>0.003419</td>\n",
       "      <td>32522000.0</td>\n",
       "      <td>%</td>\n",
       "    </tr>\n",
       "    <tr>\n",
       "      <th>4</th>\n",
       "      <td>Antigua and Barbuda</td>\n",
       "      <td>0.0</td>\n",
       "      <td>27.7033</td>\n",
       "      <td>4.6686</td>\n",
       "      <td>0.0</td>\n",
       "      <td>3.2153</td>\n",
       "      <td>0.3872</td>\n",
       "      <td>1.5263</td>\n",
       "      <td>1.2177</td>\n",
       "      <td>14.3202</td>\n",
       "      <td>...</td>\n",
       "      <td>14.4436</td>\n",
       "      <td>0.2469</td>\n",
       "      <td>19.1</td>\n",
       "      <td>NaN</td>\n",
       "      <td>0.293878</td>\n",
       "      <td>0.007143</td>\n",
       "      <td>0.190816</td>\n",
       "      <td>0.095918</td>\n",
       "      <td>98000.0</td>\n",
       "      <td>%</td>\n",
       "    </tr>\n",
       "  </tbody>\n",
       "</table>\n",
       "<p>5 rows × 32 columns</p>\n",
       "</div>"
      ],
      "text/plain": [
       "               Country  Alcoholic Beverages  Animal Products  Animal fats  \\\n",
       "0          Afghanistan                  0.0          21.6397       6.2224   \n",
       "1              Albania                  0.0          32.0002       3.4172   \n",
       "2              Algeria                  0.0          14.4175       0.8972   \n",
       "3               Angola                  0.0          15.3041       1.3130   \n",
       "4  Antigua and Barbuda                  0.0          27.7033       4.6686   \n",
       "\n",
       "   Aquatic Products, Other  Cereals - Excluding Beer    Eggs  Fish, Seafood  \\\n",
       "0                      0.0                    8.0353  0.6859         0.0327   \n",
       "1                      0.0                    2.6734  1.6448         0.1445   \n",
       "2                      0.0                    4.2035  1.2171         0.2008   \n",
       "3                      0.0                    6.5545  0.1539         1.4155   \n",
       "4                      0.0                    3.2153  0.3872         1.5263   \n",
       "\n",
       "   Fruits - Excluding Wine     Meat  ...  Vegetable Oils  Vegetables  Obesity  \\\n",
       "0                   0.4246   6.1244  ...         17.0831      0.3593      4.5   \n",
       "1                   0.6418   8.7428  ...          9.2443      0.6503     22.3   \n",
       "2                   0.5772   3.8961  ...         27.3606      0.5145     26.6   \n",
       "3                   0.3488  11.0268  ...         22.4638      0.1231      6.8   \n",
       "4                   1.2177  14.3202  ...         14.4436      0.2469     19.1   \n",
       "\n",
       "   Undernourished  Confirmed    Deaths  Recovered    Active  Population  \\\n",
       "0            29.8   0.142134  0.006186   0.123374  0.012574  38928000.0   \n",
       "1             6.2   2.967301  0.050951   1.792636  1.123714   2838000.0   \n",
       "2             3.9   0.244897  0.006558   0.167572  0.070767  44357000.0   \n",
       "3              25   0.061687  0.001461   0.056808  0.003419  32522000.0   \n",
       "4             NaN   0.293878  0.007143   0.190816  0.095918     98000.0   \n",
       "\n",
       "   Unit (all except Population)  \n",
       "0                             %  \n",
       "1                             %  \n",
       "2                             %  \n",
       "3                             %  \n",
       "4                             %  \n",
       "\n",
       "[5 rows x 32 columns]"
      ]
     },
     "execution_count": 3,
     "metadata": {},
     "output_type": "execute_result"
    }
   ],
   "source": [
    "Fat=pd.read_csv(\"E:\\DATASET_CSV\\\\CovidFood_Data.csv\")\n",
    "Fat.head()"
   ]
  },
  {
   "cell_type": "code",
   "execution_count": 4,
   "id": "06bab92b",
   "metadata": {},
   "outputs": [],
   "source": [
    "#Show data in catplot"
   ]
  },
  {
   "cell_type": "code",
   "execution_count": 5,
   "id": "295f300e",
   "metadata": {},
   "outputs": [
    {
     "data": {
      "image/png": "[encoded data removed]",
      "text/plain": [
       "<Figure size 360x360 with 1 Axes>"
      ]
     },
     "metadata": {
      "needs_background": "light"
     },
     "output_type": "display_data"
    }
   ],
   "source": [
    "sns.catplot(x=\"Animal Products\",y=\"Eggs\",data=Fat)\n",
    "plt.show()"
   ]
  },
  {
   "cell_type": "code",
   "execution_count": 6,
   "id": "1c9de3b3",
   "metadata": {},
   "outputs": [],
   "source": [
    "#Line plot"
   ]
  },
  {
   "cell_type": "code",
   "execution_count": 7,
   "id": "8b63302c",
   "metadata": {},
   "outputs": [
    {
     "data": {
      "image/png": "[encoded data removed]",
      "text/plain": [
       "<Figure size 432x288 with 1 Axes>"
      ]
     },
     "metadata": {
      "needs_background": "light"
     },
     "output_type": "display_data"
    }
   ],
   "source": [
    "sns.lineplot(x=\"Animal Products\",y=\"Eggs\",data=Fat)\n",
    "plt.show()"
   ]
  },
  {
   "cell_type": "code",
   "execution_count": 8,
   "id": "08005160",
   "metadata": {},
   "outputs": [
    {
     "data": {
      "image/png": "[encoded data removed]",
      "text/plain": [
       "<Figure size 432x288 with 1 Axes>"
      ]
     },
     "metadata": {
      "needs_background": "light"
     },
     "output_type": "display_data"
    }
   ],
   "source": [
    "sns.barplot(x=\"Animal Products\",y=\"Eggs\",data=Fat)\n",
    "plt.show()"
   ]
  },
  {
   "cell_type": "code",
   "execution_count": 9,
   "id": "ee2d96a4",
   "metadata": {},
   "outputs": [],
   "source": [
    "#Braplot with Facecolor,errcolor,edgecolor,linewidth"
   ]
  },
  {
   "cell_type": "code",
   "execution_count": 10,
   "id": "b9e15425",
   "metadata": {},
   "outputs": [
    {
     "data": {
      "image/png": "[encoded data removed]",
      "text/plain": [
       "<Figure size 432x288 with 1 Axes>"
      ]
     },
     "metadata": {
      "needs_background": "light"
     },
     "output_type": "display_data"
    }
   ],
   "source": [
    "sns.barplot(x=\"Animal Products\",y=\"Eggs\",data=Fat,\n",
    "            linewidth=2.5,facecolor=(0,1,0,1),\n",
    "            errcolor=\".3\",edgecolor=\".2\")\n",
    "plt.show()"
   ]
  },
  {
   "cell_type": "code",
   "execution_count": 11,
   "id": "3a03d316",
   "metadata": {},
   "outputs": [],
   "source": [
    "#Barplot_Tiltle"
   ]
  },
  {
   "cell_type": "code",
   "execution_count": 12,
   "id": "d47c5c01",
   "metadata": {},
   "outputs": [
    {
     "data": {
      "image/png": "[encoded data removed]",
      "text/plain": [
       "<Figure size 432x288 with 1 Axes>"
      ]
     },
     "metadata": {
      "needs_background": "light"
     },
     "output_type": "display_data"
    }
   ],
   "source": [
    "sns.barplot(x=\"Obesity\",y=\"Eggs\",data=Fat,\n",
    "            linewidth=2.5,facecolor=(0,1,0,1),\n",
    "            errcolor=\".3\",edgecolor=\".2\")\n",
    "plt.title(\"Covid Food Graph\")\n",
    "plt.show()"
   ]
  },
  {
   "cell_type": "code",
   "execution_count": 13,
   "id": "5342af5a",
   "metadata": {},
   "outputs": [],
   "source": [
    "#Data show in box plot"
   ]
  },
  {
   "cell_type": "code",
   "execution_count": 14,
   "id": "9e9b808f",
   "metadata": {},
   "outputs": [
    {
     "data": {
      "image/png": "[encoded data removed]",
      "text/plain": [
       "<Figure size 432x288 with 1 Axes>"
      ]
     },
     "metadata": {
      "needs_background": "light"
     },
     "output_type": "display_data"
    }
   ],
   "source": [
    "sns.barplot(x=\"Obesity\",y=\"Eggs\",data=Fat,\n",
    "            linewidth=0.1,facecolor=(0,1,1,1),\n",
    "            errcolor=\".3\",edgecolor=\".1\",saturation=0.8)\n",
    "plt.title(\"Covid Food Graph\")\n",
    "plt.show()"
   ]
  },
  {
   "cell_type": "code",
   "execution_count": 15,
   "id": "776239e2",
   "metadata": {},
   "outputs": [
    {
     "data": {
      "text/plain": [
       "Index(['Country', 'Alcoholic Beverages', 'Animal Products', 'Animal fats',\n",
       "       'Aquatic Products, Other', 'Cereals - Excluding Beer', 'Eggs',\n",
       "       'Fish, Seafood', 'Fruits - Excluding Wine', 'Meat', 'Miscellaneous',\n",
       "       'Milk - Excluding Butter', 'Offals', 'Oilcrops', 'Pulses', 'Spices',\n",
       "       'Starchy Roots', 'Stimulants', 'Sugar Crops', 'Sugar & Sweeteners',\n",
       "       'Treenuts', 'Vegetal Products', 'Vegetable Oils', 'Vegetables',\n",
       "       'Obesity', 'Undernourished', 'Confirmed', 'Deaths', 'Recovered',\n",
       "       'Active', 'Population', 'Unit (all except Population)'],\n",
       "      dtype='object')"
      ]
     },
     "execution_count": 15,
     "metadata": {},
     "output_type": "execute_result"
    }
   ],
   "source": [
    "Fat.columns"
   ]
  },
  {
   "cell_type": "code",
   "execution_count": 16,
   "id": "4a9d235f",
   "metadata": {},
   "outputs": [
    {
     "data": {
      "text/plain": [
       "<bound method DataFrame.drop of                                 Country  Alcoholic Beverages  Animal Products  \\\n",
       "0                           Afghanistan               0.0000          21.6397   \n",
       "1                               Albania               0.0000          32.0002   \n",
       "2                               Algeria               0.0000          14.4175   \n",
       "3                                Angola               0.0000          15.3041   \n",
       "4                   Antigua and Barbuda               0.0000          27.7033   \n",
       "..                                  ...                  ...              ...   \n",
       "165  Venezuela (Bolivarian Republic of)               0.0000          16.3261   \n",
       "166                             Vietnam               0.0000          33.2484   \n",
       "167                               Yemen               0.0000          12.5401   \n",
       "168                              Zambia               0.0783           9.6005   \n",
       "169                            Zimbabwe               0.0000          10.3796   \n",
       "\n",
       "     Animal fats  Aquatic Products, Other  Cereals - Excluding Beer    Eggs  \\\n",
       "0         6.2224                      0.0                    8.0353  0.6859   \n",
       "1         3.4172                      0.0                    2.6734  1.6448   \n",
       "2         0.8972                      0.0                    4.2035  1.2171   \n",
       "3         1.3130                      0.0                    6.5545  0.1539   \n",
       "4         4.6686                      0.0                    3.2153  0.3872   \n",
       "..           ...                      ...                       ...     ...   \n",
       "165       2.2673                      0.0                    2.5449  0.6555   \n",
       "166       3.8238                      0.0                    3.7155  0.7839   \n",
       "167       2.0131                      0.0                   11.5271  0.5514   \n",
       "168       1.6113                      0.0                   14.3225  0.6266   \n",
       "169       2.9543                      0.0                    9.7922  0.3682   \n",
       "\n",
       "     Fish, Seafood  Fruits - Excluding Wine     Meat  ...  Vegetable Oils  \\\n",
       "0           0.0327                   0.4246   6.1244  ...         17.0831   \n",
       "1           0.1445                   0.6418   8.7428  ...          9.2443   \n",
       "2           0.2008                   0.5772   3.8961  ...         27.3606   \n",
       "3           1.4155                   0.3488  11.0268  ...         22.4638   \n",
       "4           1.5263                   1.2177  14.3202  ...         14.4436   \n",
       "..             ...                      ...      ...  ...             ...   \n",
       "165         0.5707                   0.9640   7.0949  ...         29.5211   \n",
       "166         1.1217                   0.4079  26.4292  ...          5.6211   \n",
       "167         0.3847                   0.2564   8.0010  ...         23.6312   \n",
       "168         1.0070                   0.1343   4.9010  ...         15.2848   \n",
       "169         0.2455                   0.0614   4.5674  ...         26.9396   \n",
       "\n",
       "     Vegetables  Obesity  Undernourished  Confirmed    Deaths  Recovered  \\\n",
       "0        0.3593      4.5            29.8   0.142134  0.006186   0.123374   \n",
       "1        0.6503     22.3             6.2   2.967301  0.050951   1.792636   \n",
       "2        0.5145     26.6             3.9   0.244897  0.006558   0.167572   \n",
       "3        0.1231      6.8              25   0.061687  0.001461   0.056808   \n",
       "4        0.2469     19.1             NaN   0.293878  0.007143   0.190816   \n",
       "..          ...      ...             ...        ...       ...        ...   \n",
       "165      0.1851     25.2            21.2   0.452585  0.004287   0.424399   \n",
       "166      0.6373      2.1             9.3   0.002063  0.000036   0.001526   \n",
       "167      0.1667     14.1            38.9   0.007131  0.002062   0.004788   \n",
       "168      0.1567      6.5            46.7   0.334133  0.004564   0.290524   \n",
       "169      0.0789     12.3            51.3   0.232033  0.008854   0.190964   \n",
       "\n",
       "       Active  Population  Unit (all except Population)  \n",
       "0    0.012574  38928000.0                             %  \n",
       "1    1.123714   2838000.0                             %  \n",
       "2    0.070767  44357000.0                             %  \n",
       "3    0.003419  32522000.0                             %  \n",
       "4    0.095918     98000.0                             %  \n",
       "..        ...         ...                           ...  \n",
       "165  0.023899  28645000.0                             %  \n",
       "166  0.000501  96209000.0                             %  \n",
       "167  0.000282  29826000.0                             %  \n",
       "168  0.039045  18384000.0                             %  \n",
       "169  0.032214  14863000.0                             %  \n",
       "\n",
       "[170 rows x 32 columns]>"
      ]
     },
     "execution_count": 16,
     "metadata": {},
     "output_type": "execute_result"
    }
   ],
   "source": [
    "#The Value of drop in data\n",
    "Fat.drop"
   ]
  },
  {
   "cell_type": "code",
   "execution_count": 17,
   "id": "fbec781b",
   "metadata": {},
   "outputs": [
    {
     "data": {
      "text/plain": [
       "0       4.5\n",
       "1      22.3\n",
       "2      26.6\n",
       "3       6.8\n",
       "4      19.1\n",
       "       ... \n",
       "165    25.2\n",
       "166     2.1\n",
       "167    14.1\n",
       "168     6.5\n",
       "169    12.3\n",
       "Name: Obesity, Length: 170, dtype: float64"
      ]
     },
     "execution_count": 17,
     "metadata": {},
     "output_type": "execute_result"
    }
   ],
   "source": [
    "#Obesity value\n",
    "Fat.Obesity"
   ]
  },
  {
   "cell_type": "code",
   "execution_count": 18,
   "id": "4c956b1b",
   "metadata": {},
   "outputs": [
    {
     "data": {
      "text/html": [
       "<div>\n",
       "<style scoped>\n",
       "    .dataframe tbody tr th:only-of-type {\n",
       "        vertical-align: middle;\n",
       "    }\n",
       "\n",
       "    .dataframe tbody tr th {\n",
       "        vertical-align: top;\n",
       "    }\n",
       "\n",
       "    .dataframe thead th {\n",
       "        text-align: right;\n",
       "    }\n",
       "</style>\n",
       "<table border=\"1\" class=\"dataframe\">\n",
       "  <thead>\n",
       "    <tr style=\"text-align: right;\">\n",
       "      <th></th>\n",
       "      <th>Alcoholic Beverages</th>\n",
       "      <th>Animal Products</th>\n",
       "      <th>Animal fats</th>\n",
       "      <th>Aquatic Products, Other</th>\n",
       "      <th>Cereals - Excluding Beer</th>\n",
       "      <th>Eggs</th>\n",
       "      <th>Fish, Seafood</th>\n",
       "      <th>Fruits - Excluding Wine</th>\n",
       "      <th>Meat</th>\n",
       "      <th>Miscellaneous</th>\n",
       "      <th>...</th>\n",
       "      <th>Treenuts</th>\n",
       "      <th>Vegetal Products</th>\n",
       "      <th>Vegetable Oils</th>\n",
       "      <th>Vegetables</th>\n",
       "      <th>Obesity</th>\n",
       "      <th>Confirmed</th>\n",
       "      <th>Deaths</th>\n",
       "      <th>Recovered</th>\n",
       "      <th>Active</th>\n",
       "      <th>Population</th>\n",
       "    </tr>\n",
       "  </thead>\n",
       "  <tbody>\n",
       "    <tr>\n",
       "      <th>count</th>\n",
       "      <td>170.000000</td>\n",
       "      <td>170.000000</td>\n",
       "      <td>170.000000</td>\n",
       "      <td>170.000000</td>\n",
       "      <td>170.000000</td>\n",
       "      <td>170.000000</td>\n",
       "      <td>170.000000</td>\n",
       "      <td>170.000000</td>\n",
       "      <td>170.000000</td>\n",
       "      <td>170.000000</td>\n",
       "      <td>...</td>\n",
       "      <td>170.000000</td>\n",
       "      <td>170.000000</td>\n",
       "      <td>170.000000</td>\n",
       "      <td>170.000000</td>\n",
       "      <td>167.000000</td>\n",
       "      <td>164.000000</td>\n",
       "      <td>164.000000</td>\n",
       "      <td>164.000000</td>\n",
       "      <td>162.000000</td>\n",
       "      <td>1.700000e+02</td>\n",
       "    </tr>\n",
       "    <tr>\n",
       "      <th>mean</th>\n",
       "      <td>0.001035</td>\n",
       "      <td>20.695714</td>\n",
       "      <td>4.138451</td>\n",
       "      <td>0.000450</td>\n",
       "      <td>4.376548</td>\n",
       "      <td>0.953890</td>\n",
       "      <td>0.850437</td>\n",
       "      <td>0.542117</td>\n",
       "      <td>9.494279</td>\n",
       "      <td>0.056589</td>\n",
       "      <td>...</td>\n",
       "      <td>0.698955</td>\n",
       "      <td>29.304396</td>\n",
       "      <td>18.571657</td>\n",
       "      <td>0.309512</td>\n",
       "      <td>18.707784</td>\n",
       "      <td>2.021972</td>\n",
       "      <td>0.039370</td>\n",
       "      <td>1.452356</td>\n",
       "      <td>0.535158</td>\n",
       "      <td>4.452364e+07</td>\n",
       "    </tr>\n",
       "    <tr>\n",
       "      <th>std</th>\n",
       "      <td>0.009569</td>\n",
       "      <td>8.002713</td>\n",
       "      <td>3.287462</td>\n",
       "      <td>0.004039</td>\n",
       "      <td>3.183815</td>\n",
       "      <td>0.643957</td>\n",
       "      <td>0.924103</td>\n",
       "      <td>0.838286</td>\n",
       "      <td>4.666762</td>\n",
       "      <td>0.072633</td>\n",
       "      <td>...</td>\n",
       "      <td>0.814828</td>\n",
       "      <td>8.002369</td>\n",
       "      <td>6.766615</td>\n",
       "      <td>0.211766</td>\n",
       "      <td>9.633557</td>\n",
       "      <td>2.360454</td>\n",
       "      <td>0.048718</td>\n",
       "      <td>1.927617</td>\n",
       "      <td>1.329249</td>\n",
       "      <td>1.564182e+08</td>\n",
       "    </tr>\n",
       "    <tr>\n",
       "      <th>min</th>\n",
       "      <td>0.000000</td>\n",
       "      <td>5.018200</td>\n",
       "      <td>0.026200</td>\n",
       "      <td>0.000000</td>\n",
       "      <td>0.990800</td>\n",
       "      <td>0.058000</td>\n",
       "      <td>0.017400</td>\n",
       "      <td>0.037300</td>\n",
       "      <td>0.906100</td>\n",
       "      <td>0.000000</td>\n",
       "      <td>...</td>\n",
       "      <td>0.000000</td>\n",
       "      <td>13.098200</td>\n",
       "      <td>4.954900</td>\n",
       "      <td>0.026300</td>\n",
       "      <td>2.100000</td>\n",
       "      <td>0.000312</td>\n",
       "      <td>0.000000</td>\n",
       "      <td>0.000000</td>\n",
       "      <td>0.000000</td>\n",
       "      <td>5.400000e+04</td>\n",
       "    </tr>\n",
       "    <tr>\n",
       "      <th>25%</th>\n",
       "      <td>0.000000</td>\n",
       "      <td>14.885800</td>\n",
       "      <td>1.674225</td>\n",
       "      <td>0.000000</td>\n",
       "      <td>1.970150</td>\n",
       "      <td>0.411350</td>\n",
       "      <td>0.330975</td>\n",
       "      <td>0.239500</td>\n",
       "      <td>6.263575</td>\n",
       "      <td>0.010125</td>\n",
       "      <td>...</td>\n",
       "      <td>0.137350</td>\n",
       "      <td>23.133050</td>\n",
       "      <td>13.812825</td>\n",
       "      <td>0.173675</td>\n",
       "      <td>8.500000</td>\n",
       "      <td>0.140976</td>\n",
       "      <td>0.002013</td>\n",
       "      <td>0.099107</td>\n",
       "      <td>0.012028</td>\n",
       "      <td>2.816250e+06</td>\n",
       "    </tr>\n",
       "    <tr>\n",
       "      <th>50%</th>\n",
       "      <td>0.000000</td>\n",
       "      <td>20.943050</td>\n",
       "      <td>3.312350</td>\n",
       "      <td>0.000000</td>\n",
       "      <td>3.306750</td>\n",
       "      <td>0.898300</td>\n",
       "      <td>0.572700</td>\n",
       "      <td>0.361400</td>\n",
       "      <td>9.259000</td>\n",
       "      <td>0.031650</td>\n",
       "      <td>...</td>\n",
       "      <td>0.452400</td>\n",
       "      <td>29.060600</td>\n",
       "      <td>18.192550</td>\n",
       "      <td>0.247450</td>\n",
       "      <td>21.200000</td>\n",
       "      <td>1.011570</td>\n",
       "      <td>0.011998</td>\n",
       "      <td>0.475402</td>\n",
       "      <td>0.081040</td>\n",
       "      <td>1.018150e+07</td>\n",
       "    </tr>\n",
       "    <tr>\n",
       "      <th>75%</th>\n",
       "      <td>0.000000</td>\n",
       "      <td>26.866950</td>\n",
       "      <td>6.227575</td>\n",
       "      <td>0.000000</td>\n",
       "      <td>5.587600</td>\n",
       "      <td>1.276900</td>\n",
       "      <td>1.111625</td>\n",
       "      <td>0.577800</td>\n",
       "      <td>11.750450</td>\n",
       "      <td>0.076325</td>\n",
       "      <td>...</td>\n",
       "      <td>0.914025</td>\n",
       "      <td>35.117250</td>\n",
       "      <td>23.597300</td>\n",
       "      <td>0.362925</td>\n",
       "      <td>25.700000</td>\n",
       "      <td>3.487069</td>\n",
       "      <td>0.069503</td>\n",
       "      <td>2.622874</td>\n",
       "      <td>0.358183</td>\n",
       "      <td>3.271625e+07</td>\n",
       "    </tr>\n",
       "    <tr>\n",
       "      <th>max</th>\n",
       "      <td>0.097600</td>\n",
       "      <td>36.901800</td>\n",
       "      <td>14.937300</td>\n",
       "      <td>0.051100</td>\n",
       "      <td>18.376300</td>\n",
       "      <td>3.275600</td>\n",
       "      <td>8.406800</td>\n",
       "      <td>9.672700</td>\n",
       "      <td>26.429200</td>\n",
       "      <td>0.456100</td>\n",
       "      <td>...</td>\n",
       "      <td>4.975600</td>\n",
       "      <td>44.981800</td>\n",
       "      <td>36.418600</td>\n",
       "      <td>1.153800</td>\n",
       "      <td>45.600000</td>\n",
       "      <td>10.408199</td>\n",
       "      <td>0.185428</td>\n",
       "      <td>9.039871</td>\n",
       "      <td>8.019819</td>\n",
       "      <td>1.402385e+09</td>\n",
       "    </tr>\n",
       "  </tbody>\n",
       "</table>\n",
       "<p>8 rows × 29 columns</p>\n",
       "</div>"
      ],
      "text/plain": [
       "       Alcoholic Beverages  Animal Products  Animal fats  \\\n",
       "count           170.000000       170.000000   170.000000   \n",
       "mean              0.001035        20.695714     4.138451   \n",
       "std               0.009569         8.002713     3.287462   \n",
       "min               0.000000         5.018200     0.026200   \n",
       "25%               0.000000        14.885800     1.674225   \n",
       "50%               0.000000        20.943050     3.312350   \n",
       "75%               0.000000        26.866950     6.227575   \n",
       "max               0.097600        36.901800    14.937300   \n",
       "\n",
       "       Aquatic Products, Other  Cereals - Excluding Beer        Eggs  \\\n",
       "count               170.000000                170.000000  170.000000   \n",
       "mean                  0.000450                  4.376548    0.953890   \n",
       "std                   0.004039                  3.183815    0.643957   \n",
       "min                   0.000000                  0.990800    0.058000   \n",
       "25%                   0.000000                  1.970150    0.411350   \n",
       "50%                   0.000000                  3.306750    0.898300   \n",
       "75%                   0.000000                  5.587600    1.276900   \n",
       "max                   0.051100                 18.376300    3.275600   \n",
       "\n",
       "       Fish, Seafood  Fruits - Excluding Wine        Meat  Miscellaneous  ...  \\\n",
       "count     170.000000               170.000000  170.000000     170.000000  ...   \n",
       "mean        0.850437                 0.542117    9.494279       0.056589  ...   \n",
       "std         0.924103                 0.838286    4.666762       0.072633  ...   \n",
       "min         0.017400                 0.037300    0.906100       0.000000  ...   \n",
       "25%         0.330975                 0.239500    6.263575       0.010125  ...   \n",
       "50%         0.572700                 0.361400    9.259000       0.031650  ...   \n",
       "75%         1.111625                 0.577800   11.750450       0.076325  ...   \n",
       "max         8.406800                 9.672700   26.429200       0.456100  ...   \n",
       "\n",
       "         Treenuts  Vegetal Products  Vegetable Oils  Vegetables     Obesity  \\\n",
       "count  170.000000        170.000000      170.000000  170.000000  167.000000   \n",
       "mean     0.698955         29.304396       18.571657    0.309512   18.707784   \n",
       "std      0.814828          8.002369        6.766615    0.211766    9.633557   \n",
       "min      0.000000         13.098200        4.954900    0.026300    2.100000   \n",
       "25%      0.137350         23.133050       13.812825    0.173675    8.500000   \n",
       "50%      0.452400         29.060600       18.192550    0.247450   21.200000   \n",
       "75%      0.914025         35.117250       23.597300    0.362925   25.700000   \n",
       "max      4.975600         44.981800       36.418600    1.153800   45.600000   \n",
       "\n",
       "        Confirmed      Deaths   Recovered      Active    Population  \n",
       "count  164.000000  164.000000  164.000000  162.000000  1.700000e+02  \n",
       "mean     2.021972    0.039370    1.452356    0.535158  4.452364e+07  \n",
       "std      2.360454    0.048718    1.927617    1.329249  1.564182e+08  \n",
       "min      0.000312    0.000000    0.000000    0.000000  5.400000e+04  \n",
       "25%      0.140976    0.002013    0.099107    0.012028  2.816250e+06  \n",
       "50%      1.011570    0.011998    0.475402    0.081040  1.018150e+07  \n",
       "75%      3.487069    0.069503    2.622874    0.358183  3.271625e+07  \n",
       "max     10.408199    0.185428    9.039871    8.019819  1.402385e+09  \n",
       "\n",
       "[8 rows x 29 columns]"
      ]
     },
     "execution_count": 18,
     "metadata": {},
     "output_type": "execute_result"
    }
   ],
   "source": [
    "Fat.describe()"
   ]
  },
  {
   "cell_type": "code",
   "execution_count": 19,
   "id": "537555aa",
   "metadata": {},
   "outputs": [
    {
     "data": {
      "text/html": [
       "<div>\n",
       "<style scoped>\n",
       "    .dataframe tbody tr th:only-of-type {\n",
       "        vertical-align: middle;\n",
       "    }\n",
       "\n",
       "    .dataframe tbody tr th {\n",
       "        vertical-align: top;\n",
       "    }\n",
       "\n",
       "    .dataframe thead th {\n",
       "        text-align: right;\n",
       "    }\n",
       "</style>\n",
       "<table border=\"1\" class=\"dataframe\">\n",
       "  <thead>\n",
       "    <tr style=\"text-align: right;\">\n",
       "      <th></th>\n",
       "      <th>Country</th>\n",
       "      <th>Alcoholic Beverages</th>\n",
       "      <th>Animal Products</th>\n",
       "      <th>Animal fats</th>\n",
       "      <th>Aquatic Products, Other</th>\n",
       "      <th>Cereals - Excluding Beer</th>\n",
       "      <th>Eggs</th>\n",
       "      <th>Fish, Seafood</th>\n",
       "      <th>Fruits - Excluding Wine</th>\n",
       "      <th>Meat</th>\n",
       "      <th>...</th>\n",
       "      <th>Vegetable Oils</th>\n",
       "      <th>Vegetables</th>\n",
       "      <th>Obesity</th>\n",
       "      <th>Undernourished</th>\n",
       "      <th>Confirmed</th>\n",
       "      <th>Deaths</th>\n",
       "      <th>Recovered</th>\n",
       "      <th>Active</th>\n",
       "      <th>Population</th>\n",
       "      <th>Unit (all except Population)</th>\n",
       "    </tr>\n",
       "  </thead>\n",
       "  <tbody>\n",
       "    <tr>\n",
       "      <th>0</th>\n",
       "      <td>Afghanistan</td>\n",
       "      <td>0.0000</td>\n",
       "      <td>21.6397</td>\n",
       "      <td>6.2224</td>\n",
       "      <td>0.0</td>\n",
       "      <td>8.0353</td>\n",
       "      <td>0.6859</td>\n",
       "      <td>0.0327</td>\n",
       "      <td>0.4246</td>\n",
       "      <td>6.1244</td>\n",
       "      <td>...</td>\n",
       "      <td>17.0831</td>\n",
       "      <td>0.3593</td>\n",
       "      <td>4.5</td>\n",
       "      <td>29.8</td>\n",
       "      <td>0.142134</td>\n",
       "      <td>0.006186</td>\n",
       "      <td>0.123374</td>\n",
       "      <td>0.012574</td>\n",
       "      <td>38928000.0</td>\n",
       "      <td>%</td>\n",
       "    </tr>\n",
       "    <tr>\n",
       "      <th>1</th>\n",
       "      <td>Albania</td>\n",
       "      <td>0.0000</td>\n",
       "      <td>32.0002</td>\n",
       "      <td>3.4172</td>\n",
       "      <td>0.0</td>\n",
       "      <td>2.6734</td>\n",
       "      <td>1.6448</td>\n",
       "      <td>0.1445</td>\n",
       "      <td>0.6418</td>\n",
       "      <td>8.7428</td>\n",
       "      <td>...</td>\n",
       "      <td>9.2443</td>\n",
       "      <td>0.6503</td>\n",
       "      <td>22.3</td>\n",
       "      <td>6.2</td>\n",
       "      <td>2.967301</td>\n",
       "      <td>0.050951</td>\n",
       "      <td>1.792636</td>\n",
       "      <td>1.123714</td>\n",
       "      <td>2838000.0</td>\n",
       "      <td>%</td>\n",
       "    </tr>\n",
       "    <tr>\n",
       "      <th>2</th>\n",
       "      <td>Algeria</td>\n",
       "      <td>0.0000</td>\n",
       "      <td>14.4175</td>\n",
       "      <td>0.8972</td>\n",
       "      <td>0.0</td>\n",
       "      <td>4.2035</td>\n",
       "      <td>1.2171</td>\n",
       "      <td>0.2008</td>\n",
       "      <td>0.5772</td>\n",
       "      <td>3.8961</td>\n",
       "      <td>...</td>\n",
       "      <td>27.3606</td>\n",
       "      <td>0.5145</td>\n",
       "      <td>26.6</td>\n",
       "      <td>3.9</td>\n",
       "      <td>0.244897</td>\n",
       "      <td>0.006558</td>\n",
       "      <td>0.167572</td>\n",
       "      <td>0.070767</td>\n",
       "      <td>44357000.0</td>\n",
       "      <td>%</td>\n",
       "    </tr>\n",
       "    <tr>\n",
       "      <th>3</th>\n",
       "      <td>Angola</td>\n",
       "      <td>0.0000</td>\n",
       "      <td>15.3041</td>\n",
       "      <td>1.3130</td>\n",
       "      <td>0.0</td>\n",
       "      <td>6.5545</td>\n",
       "      <td>0.1539</td>\n",
       "      <td>1.4155</td>\n",
       "      <td>0.3488</td>\n",
       "      <td>11.0268</td>\n",
       "      <td>...</td>\n",
       "      <td>22.4638</td>\n",
       "      <td>0.1231</td>\n",
       "      <td>6.8</td>\n",
       "      <td>25</td>\n",
       "      <td>0.061687</td>\n",
       "      <td>0.001461</td>\n",
       "      <td>0.056808</td>\n",
       "      <td>0.003419</td>\n",
       "      <td>32522000.0</td>\n",
       "      <td>%</td>\n",
       "    </tr>\n",
       "    <tr>\n",
       "      <th>4</th>\n",
       "      <td>Antigua and Barbuda</td>\n",
       "      <td>0.0000</td>\n",
       "      <td>27.7033</td>\n",
       "      <td>4.6686</td>\n",
       "      <td>0.0</td>\n",
       "      <td>3.2153</td>\n",
       "      <td>0.3872</td>\n",
       "      <td>1.5263</td>\n",
       "      <td>1.2177</td>\n",
       "      <td>14.3202</td>\n",
       "      <td>...</td>\n",
       "      <td>14.4436</td>\n",
       "      <td>0.2469</td>\n",
       "      <td>19.1</td>\n",
       "      <td>NaN</td>\n",
       "      <td>0.293878</td>\n",
       "      <td>0.007143</td>\n",
       "      <td>0.190816</td>\n",
       "      <td>0.095918</td>\n",
       "      <td>98000.0</td>\n",
       "      <td>%</td>\n",
       "    </tr>\n",
       "    <tr>\n",
       "      <th>...</th>\n",
       "      <td>...</td>\n",
       "      <td>...</td>\n",
       "      <td>...</td>\n",
       "      <td>...</td>\n",
       "      <td>...</td>\n",
       "      <td>...</td>\n",
       "      <td>...</td>\n",
       "      <td>...</td>\n",
       "      <td>...</td>\n",
       "      <td>...</td>\n",
       "      <td>...</td>\n",
       "      <td>...</td>\n",
       "      <td>...</td>\n",
       "      <td>...</td>\n",
       "      <td>...</td>\n",
       "      <td>...</td>\n",
       "      <td>...</td>\n",
       "      <td>...</td>\n",
       "      <td>...</td>\n",
       "      <td>...</td>\n",
       "      <td>...</td>\n",
       "    </tr>\n",
       "    <tr>\n",
       "      <th>165</th>\n",
       "      <td>Venezuela (Bolivarian Republic of)</td>\n",
       "      <td>0.0000</td>\n",
       "      <td>16.3261</td>\n",
       "      <td>2.2673</td>\n",
       "      <td>0.0</td>\n",
       "      <td>2.5449</td>\n",
       "      <td>0.6555</td>\n",
       "      <td>0.5707</td>\n",
       "      <td>0.9640</td>\n",
       "      <td>7.0949</td>\n",
       "      <td>...</td>\n",
       "      <td>29.5211</td>\n",
       "      <td>0.1851</td>\n",
       "      <td>25.2</td>\n",
       "      <td>21.2</td>\n",
       "      <td>0.452585</td>\n",
       "      <td>0.004287</td>\n",
       "      <td>0.424399</td>\n",
       "      <td>0.023899</td>\n",
       "      <td>28645000.0</td>\n",
       "      <td>%</td>\n",
       "    </tr>\n",
       "    <tr>\n",
       "      <th>166</th>\n",
       "      <td>Vietnam</td>\n",
       "      <td>0.0000</td>\n",
       "      <td>33.2484</td>\n",
       "      <td>3.8238</td>\n",
       "      <td>0.0</td>\n",
       "      <td>3.7155</td>\n",
       "      <td>0.7839</td>\n",
       "      <td>1.1217</td>\n",
       "      <td>0.4079</td>\n",
       "      <td>26.4292</td>\n",
       "      <td>...</td>\n",
       "      <td>5.6211</td>\n",
       "      <td>0.6373</td>\n",
       "      <td>2.1</td>\n",
       "      <td>9.3</td>\n",
       "      <td>0.002063</td>\n",
       "      <td>0.000036</td>\n",
       "      <td>0.001526</td>\n",
       "      <td>0.000501</td>\n",
       "      <td>96209000.0</td>\n",
       "      <td>%</td>\n",
       "    </tr>\n",
       "    <tr>\n",
       "      <th>167</th>\n",
       "      <td>Yemen</td>\n",
       "      <td>0.0000</td>\n",
       "      <td>12.5401</td>\n",
       "      <td>2.0131</td>\n",
       "      <td>0.0</td>\n",
       "      <td>11.5271</td>\n",
       "      <td>0.5514</td>\n",
       "      <td>0.3847</td>\n",
       "      <td>0.2564</td>\n",
       "      <td>8.0010</td>\n",
       "      <td>...</td>\n",
       "      <td>23.6312</td>\n",
       "      <td>0.1667</td>\n",
       "      <td>14.1</td>\n",
       "      <td>38.9</td>\n",
       "      <td>0.007131</td>\n",
       "      <td>0.002062</td>\n",
       "      <td>0.004788</td>\n",
       "      <td>0.000282</td>\n",
       "      <td>29826000.0</td>\n",
       "      <td>%</td>\n",
       "    </tr>\n",
       "    <tr>\n",
       "      <th>168</th>\n",
       "      <td>Zambia</td>\n",
       "      <td>0.0783</td>\n",
       "      <td>9.6005</td>\n",
       "      <td>1.6113</td>\n",
       "      <td>0.0</td>\n",
       "      <td>14.3225</td>\n",
       "      <td>0.6266</td>\n",
       "      <td>1.0070</td>\n",
       "      <td>0.1343</td>\n",
       "      <td>4.9010</td>\n",
       "      <td>...</td>\n",
       "      <td>15.2848</td>\n",
       "      <td>0.1567</td>\n",
       "      <td>6.5</td>\n",
       "      <td>46.7</td>\n",
       "      <td>0.334133</td>\n",
       "      <td>0.004564</td>\n",
       "      <td>0.290524</td>\n",
       "      <td>0.039045</td>\n",
       "      <td>18384000.0</td>\n",
       "      <td>%</td>\n",
       "    </tr>\n",
       "    <tr>\n",
       "      <th>169</th>\n",
       "      <td>Zimbabwe</td>\n",
       "      <td>0.0000</td>\n",
       "      <td>10.3796</td>\n",
       "      <td>2.9543</td>\n",
       "      <td>0.0</td>\n",
       "      <td>9.7922</td>\n",
       "      <td>0.3682</td>\n",
       "      <td>0.2455</td>\n",
       "      <td>0.0614</td>\n",
       "      <td>4.5674</td>\n",
       "      <td>...</td>\n",
       "      <td>26.9396</td>\n",
       "      <td>0.0789</td>\n",
       "      <td>12.3</td>\n",
       "      <td>51.3</td>\n",
       "      <td>0.232033</td>\n",
       "      <td>0.008854</td>\n",
       "      <td>0.190964</td>\n",
       "      <td>0.032214</td>\n",
       "      <td>14863000.0</td>\n",
       "      <td>%</td>\n",
       "    </tr>\n",
       "  </tbody>\n",
       "</table>\n",
       "<p>170 rows × 32 columns</p>\n",
       "</div>"
      ],
      "text/plain": [
       "                                Country  Alcoholic Beverages  Animal Products  \\\n",
       "0                           Afghanistan               0.0000          21.6397   \n",
       "1                               Albania               0.0000          32.0002   \n",
       "2                               Algeria               0.0000          14.4175   \n",
       "3                                Angola               0.0000          15.3041   \n",
       "4                   Antigua and Barbuda               0.0000          27.7033   \n",
       "..                                  ...                  ...              ...   \n",
       "165  Venezuela (Bolivarian Republic of)               0.0000          16.3261   \n",
       "166                             Vietnam               0.0000          33.2484   \n",
       "167                               Yemen               0.0000          12.5401   \n",
       "168                              Zambia               0.0783           9.6005   \n",
       "169                            Zimbabwe               0.0000          10.3796   \n",
       "\n",
       "     Animal fats  Aquatic Products, Other  Cereals - Excluding Beer    Eggs  \\\n",
       "0         6.2224                      0.0                    8.0353  0.6859   \n",
       "1         3.4172                      0.0                    2.6734  1.6448   \n",
       "2         0.8972                      0.0                    4.2035  1.2171   \n",
       "3         1.3130                      0.0                    6.5545  0.1539   \n",
       "4         4.6686                      0.0                    3.2153  0.3872   \n",
       "..           ...                      ...                       ...     ...   \n",
       "165       2.2673                      0.0                    2.5449  0.6555   \n",
       "166       3.8238                      0.0                    3.7155  0.7839   \n",
       "167       2.0131                      0.0                   11.5271  0.5514   \n",
       "168       1.6113                      0.0                   14.3225  0.6266   \n",
       "169       2.9543                      0.0                    9.7922  0.3682   \n",
       "\n",
       "     Fish, Seafood  Fruits - Excluding Wine     Meat  ...  Vegetable Oils  \\\n",
       "0           0.0327                   0.4246   6.1244  ...         17.0831   \n",
       "1           0.1445                   0.6418   8.7428  ...          9.2443   \n",
       "2           0.2008                   0.5772   3.8961  ...         27.3606   \n",
       "3           1.4155                   0.3488  11.0268  ...         22.4638   \n",
       "4           1.5263                   1.2177  14.3202  ...         14.4436   \n",
       "..             ...                      ...      ...  ...             ...   \n",
       "165         0.5707                   0.9640   7.0949  ...         29.5211   \n",
       "166         1.1217                   0.4079  26.4292  ...          5.6211   \n",
       "167         0.3847                   0.2564   8.0010  ...         23.6312   \n",
       "168         1.0070                   0.1343   4.9010  ...         15.2848   \n",
       "169         0.2455                   0.0614   4.5674  ...         26.9396   \n",
       "\n",
       "     Vegetables  Obesity  Undernourished  Confirmed    Deaths  Recovered  \\\n",
       "0        0.3593      4.5            29.8   0.142134  0.006186   0.123374   \n",
       "1        0.6503     22.3             6.2   2.967301  0.050951   1.792636   \n",
       "2        0.5145     26.6             3.9   0.244897  0.006558   0.167572   \n",
       "3        0.1231      6.8              25   0.061687  0.001461   0.056808   \n",
       "4        0.2469     19.1             NaN   0.293878  0.007143   0.190816   \n",
       "..          ...      ...             ...        ...       ...        ...   \n",
       "165      0.1851     25.2            21.2   0.452585  0.004287   0.424399   \n",
       "166      0.6373      2.1             9.3   0.002063  0.000036   0.001526   \n",
       "167      0.1667     14.1            38.9   0.007131  0.002062   0.004788   \n",
       "168      0.1567      6.5            46.7   0.334133  0.004564   0.290524   \n",
       "169      0.0789     12.3            51.3   0.232033  0.008854   0.190964   \n",
       "\n",
       "       Active  Population  Unit (all except Population)  \n",
       "0    0.012574  38928000.0                             %  \n",
       "1    1.123714   2838000.0                             %  \n",
       "2    0.070767  44357000.0                             %  \n",
       "3    0.003419  32522000.0                             %  \n",
       "4    0.095918     98000.0                             %  \n",
       "..        ...         ...                           ...  \n",
       "165  0.023899  28645000.0                             %  \n",
       "166  0.000501  96209000.0                             %  \n",
       "167  0.000282  29826000.0                             %  \n",
       "168  0.039045  18384000.0                             %  \n",
       "169  0.032214  14863000.0                             %  \n",
       "\n",
       "[170 rows x 32 columns]"
      ]
     },
     "execution_count": 19,
     "metadata": {},
     "output_type": "execute_result"
    }
   ],
   "source": [
    "Fat"
   ]
  },
  {
   "cell_type": "code",
   "execution_count": 20,
   "id": "a3eb94ff",
   "metadata": {},
   "outputs": [],
   "source": [
    "#set_style darkgrid"
   ]
  },
  {
   "cell_type": "code",
   "execution_count": 21,
   "id": "27143bf5",
   "metadata": {},
   "outputs": [
    {
     "data": {
      "image/png": "[encoded data removed]",
      "text/plain": [
       "<Figure size 432x288 with 1 Axes>"
      ]
     },
     "metadata": {
      "needs_background": "light"
     },
     "output_type": "display_data"
    }
   ],
   "source": [
    "sns.barplot(x=\"Obesity\",y=\"Eggs\",data=Fat,\n",
    "            linewidth=0.1,facecolor=(0,1,1,1),\n",
    "            errcolor=\".3\",edgecolor=\".1\",saturation=0.8)\n",
    "plt.title(\"Covid Food Graph\")\n",
    "sns.set_style(\"darkgrid\")\n",
    "plt.show()"
   ]
  },
  {
   "cell_type": "code",
   "execution_count": 22,
   "id": "398b1e23",
   "metadata": {},
   "outputs": [
    {
     "data": {
      "text/plain": [
       "<AxesSubplot:xlabel='Eggs'>"
      ]
     },
     "execution_count": 22,
     "metadata": {},
     "output_type": "execute_result"
    },
    {
     "data": {
      "image/png": "[encoded data removed]",
      "text/plain": [
       "<Figure size 432x288 with 1 Axes>"
      ]
     },
     "metadata": {},
     "output_type": "display_data"
    }
   ],
   "source": [
    "sns.boxplot(x=Fat[\"Eggs\"],data=Fat)"
   ]
  },
  {
   "cell_type": "code",
   "execution_count": 23,
   "id": "7bf76fde",
   "metadata": {},
   "outputs": [
    {
     "data": {
      "image/png": "[encoded data removed]",
      "text/plain": [
       "<Figure size 432x288 with 1 Axes>"
      ]
     },
     "metadata": {},
     "output_type": "display_data"
    }
   ],
   "source": [
    "sns.boxplot(x=\"Population\",y=\"Deaths\",data=Fat)\n",
    "plt.title(\"Covid Food Graph\")\n",
    "sns.set_style(\"darkgrid\")\n",
    "plt.show()"
   ]
  },
  {
   "cell_type": "code",
   "execution_count": 24,
   "id": "60ba3aa5",
   "metadata": {},
   "outputs": [
    {
     "data": {
      "image/png": "[encoded data removed]",
      "text/plain": [
       "<Figure size 432x288 with 1 Axes>"
      ]
     },
     "metadata": {},
     "output_type": "display_data"
    }
   ],
   "source": [
    "sns.barplot(x=\"Population\",y=\"Deaths\" ,data=Fat,color=\"Green\")\n",
    "plt.title(\"Covid Food Graph\")\n",
    "sns.set_style(\"darkgrid\")\n",
    "plt.show()"
   ]
  },
  {
   "cell_type": "code",
   "execution_count": 25,
   "id": "261257ec",
   "metadata": {},
   "outputs": [
    {
     "data": {
      "image/png": "[encoded data removed]",
      "text/plain": [
       "<Figure size 432x288 with 1 Axes>"
      ]
     },
     "metadata": {},
     "output_type": "display_data"
    }
   ],
   "source": [
    "#Box plot with show mean values\n",
    "\n",
    "\n",
    "sns.boxplot(x=\"Population\",y=\"Deaths\" ,data=Fat,color=\"Green\"\n",
    "            ,showmeans=True)\n",
    "plt.title(\"Covid Food Graph\")\n",
    "sns.set_style(\"darkgrid\")\n",
    "plt.show()"
   ]
  },
  {
   "cell_type": "code",
   "execution_count": 26,
   "id": "3a15bde1",
   "metadata": {},
   "outputs": [
    {
     "data": {
      "image/png": "[encoded data removed]",
      "text/plain": [
       "<Figure size 432x288 with 1 Axes>"
      ]
     },
     "metadata": {},
     "output_type": "display_data"
    }
   ],
   "source": [
    "#Boxplot with meanprops,marker,marker size,markeredgecolor\n",
    "\n",
    "sns.boxplot(x=\"Population\",y=\"Deaths\" ,data=Fat,\n",
    "            color=\"Green\",showmeans=True, \n",
    "            meanprops={\"marker\":\"*\",\"markersize\":\"5\",\n",
    "                       \"markeredgecolor\":\"Red\"})\n",
    "plt.title(\"Covid Food Graph\")\n",
    "sns.set_style(\"darkgrid\")\n",
    "plt.show()"
   ]
  },
  {
   "cell_type": "code",
   "execution_count": 27,
   "id": "8c95e082",
   "metadata": {},
   "outputs": [],
   "source": [
    "#Boxplot with x_label and Y_label"
   ]
  },
  {
   "cell_type": "code",
   "execution_count": 28,
   "id": "6cd4838b",
   "metadata": {},
   "outputs": [
    {
     "data": {
      "image/png": "[encoded data removed]",
      "text/plain": [
       "<Figure size 432x288 with 1 Axes>"
      ]
     },
     "metadata": {},
     "output_type": "display_data"
    }
   ],
   "source": [
    "sns.boxplot(x=\"Population\",y=\"Deaths\" ,data=Fat,\n",
    "            color=\"Green\",showmeans=True, \n",
    "            meanprops={\"marker\":\"*\",\"markersize\":\"5\",\n",
    "                       \"markeredgecolor\":\"Red\"})\n",
    "plt.title(\"Covid Food Graph\",size=12,weight='bold')\n",
    "plt.xlabel(\"Total Population\",size=12,weight='bold'),\n",
    "plt.ylabel(\"Total Deaths\",size=12,weight='bold')\n",
    "sns.set_style(\"darkgrid\")\n",
    "plt.show()"
   ]
  },
  {
   "cell_type": "code",
   "execution_count": null,
   "id": "348cc60b",
   "metadata": {},
   "outputs": [],
   "source": [
    "#Simple Facted plots in catplot \n",
    "\n",
    "sns.catplot(x=\"Population\",y=\"Deaths\" ,data=Fat,\n",
    "            color=\"Green\",col=\"Eggs\", \n",
    "                aspect=0.5,\n",
    "                dodge=False,\n",
    "                kind=\"box\")\n",
    "\n",
    "plt.title(\"Covid Food Graph\",size=12,weight='bold')\n",
    "plt.xlabel(\"Total Population\",size=12,weight='bold'),\n",
    "plt.ylabel(\"Total Deaths\",size=12,weight='bold')\n",
    "sns.set_style(\"darkgrid\")\n",
    "plt.show()"
   ]
  }
 ],
 "metadata": {
  "kernelspec": {
   "display_name": "Python 3 (ipykernel)",
   "language": "python",
   "name": "python3"
  },
  "language_info": {
   "codemirror_mode": {
    "name": "ipython",
    "version": 3
   },
   "file_extension": ".py",
   "mimetype": "text/x-python",
   "name": "python",
   "nbconvert_exporter": "python",
   "pygments_lexer": "ipython3",
   "version": "3.9.7"
  }
 },
 "nbformat": 4,
 "nbformat_minor": 5
}
