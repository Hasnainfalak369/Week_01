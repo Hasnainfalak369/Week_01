{
 "cells": [
  {
   "cell_type": "markdown",
   "id": "68bd66f3",
   "metadata": {},
   "source": [
    "# Learn_python_ka Chilla_With_Baba_Ammar_Day_01\n",
    "----\n"
   ]
  },
  {
   "cell_type": "markdown",
   "id": "15ff51b1",
   "metadata": {},
   "source": [
    "# Tuple_List_Set\n",
    "---"
   ]
  },
  {
   "cell_type": "markdown",
   "id": "68d91f8b",
   "metadata": {},
   "source": [
    "### Tittle \"Research Scholar\"\n",
    "### Name   \"Muhammad Hasnain\"\n",
    "### Email  \"mhasnain@ele.qau.edu.pk\"\n",
    "### Whatsapp \"+923006712492\"\n",
    "----"
   ]
  },
  {
   "cell_type": "markdown",
   "id": "5c8bd1b3",
   "metadata": {},
   "source": []
  },
  {
   "cell_type": "markdown",
   "id": "af2646a3",
   "metadata": {},
   "source": [
    "### Tuple\n",
    "---"
   ]
  },
  {
   "cell_type": "markdown",
   "id": "58a975ab",
   "metadata": {},
   "source": []
  },
  {
   "cell_type": "code",
   "execution_count": 7,
   "id": "83680520",
   "metadata": {},
   "outputs": [
    {
     "data": {
      "text/plain": [
       "('Hasnain', 1, 2.5, 100, 'True', 'False')"
      ]
     },
     "execution_count": 7,
     "metadata": {},
     "output_type": "execute_result"
    }
   ],
   "source": [
    "tup1 = (\"Hasnain\",1,2.5,100,'True','False')\n",
    "tup1"
   ]
  },
  {
   "cell_type": "code",
   "execution_count": 9,
   "id": "11f72e2c",
   "metadata": {},
   "outputs": [
    {
     "data": {
      "text/plain": [
       "('Doctor', 'Asim', 'Hasnain', 2.8, 50)"
      ]
     },
     "execution_count": 9,
     "metadata": {},
     "output_type": "execute_result"
    }
   ],
   "source": [
    "tupe2 = ('Doctor','Asim','Hasnain',2.8,50)\n",
    "tupe2"
   ]
  },
  {
   "cell_type": "code",
   "execution_count": 10,
   "id": "e071bea0",
   "metadata": {},
   "outputs": [
    {
     "data": {
      "text/plain": [
       "('Hasnain', 1, 2.5, 100, 'True', 'False', 'Doctor', 'Asim', 'Hasnain', 2.8, 50)"
      ]
     },
     "execution_count": 10,
     "metadata": {},
     "output_type": "execute_result"
    }
   ],
   "source": [
    "tup1+tupe2"
   ]
  },
  {
   "cell_type": "code",
   "execution_count": 11,
   "id": "66c690a4",
   "metadata": {},
   "outputs": [
    {
     "data": {
      "text/plain": [
       "('Hasnain',\n",
       " 1,\n",
       " 2.5,\n",
       " 100,\n",
       " 'True',\n",
       " 'False',\n",
       " 'Hasnain',\n",
       " 1,\n",
       " 2.5,\n",
       " 100,\n",
       " 'True',\n",
       " 'False',\n",
       " 'Doctor',\n",
       " 'Asim',\n",
       " 'Hasnain',\n",
       " 2.8,\n",
       " 50)"
      ]
     },
     "execution_count": 11,
     "metadata": {},
     "output_type": "execute_result"
    }
   ],
   "source": [
    "tup1*2+tupe2"
   ]
  },
  {
   "cell_type": "code",
   "execution_count": 12,
   "id": "1bda4bb7",
   "metadata": {},
   "outputs": [
    {
     "data": {
      "text/plain": [
       "2.5"
      ]
     },
     "execution_count": 12,
     "metadata": {},
     "output_type": "execute_result"
    }
   ],
   "source": [
    "tup1[2]"
   ]
  },
  {
   "cell_type": "code",
   "execution_count": 13,
   "id": "b56ab6ea",
   "metadata": {},
   "outputs": [
    {
     "data": {
      "text/plain": [
       "2.8"
      ]
     },
     "execution_count": 13,
     "metadata": {},
     "output_type": "execute_result"
    }
   ],
   "source": [
    "tupe2[3]"
   ]
  },
  {
   "cell_type": "code",
   "execution_count": 14,
   "id": "8efcae92",
   "metadata": {},
   "outputs": [
    {
     "data": {
      "text/plain": [
       "6"
      ]
     },
     "execution_count": 14,
     "metadata": {},
     "output_type": "execute_result"
    }
   ],
   "source": [
    "len(tup1)"
   ]
  },
  {
   "cell_type": "code",
   "execution_count": 15,
   "id": "79442299",
   "metadata": {},
   "outputs": [
    {
     "data": {
      "text/plain": [
       "5"
      ]
     },
     "execution_count": 15,
     "metadata": {},
     "output_type": "execute_result"
    }
   ],
   "source": [
    "len(tupe2)"
   ]
  },
  {
   "cell_type": "code",
   "execution_count": 24,
   "id": "8f5144b0",
   "metadata": {},
   "outputs": [
    {
     "data": {
      "text/plain": [
       "(10, 20, 5, 100, 500, 1000)"
      ]
     },
     "execution_count": 24,
     "metadata": {},
     "output_type": "execute_result"
    }
   ],
   "source": [
    "tup3 =(10,20,5,100,500,1000)\n",
    "tup3"
   ]
  },
  {
   "cell_type": "code",
   "execution_count": 20,
   "id": "0e03afab",
   "metadata": {},
   "outputs": [
    {
     "data": {
      "text/plain": [
       "5"
      ]
     },
     "execution_count": 20,
     "metadata": {},
     "output_type": "execute_result"
    }
   ],
   "source": [
    "min(tup3)"
   ]
  },
  {
   "cell_type": "code",
   "execution_count": 25,
   "id": "20c12c1f",
   "metadata": {},
   "outputs": [
    {
     "data": {
      "text/plain": [
       "1000"
      ]
     },
     "execution_count": 25,
     "metadata": {},
     "output_type": "execute_result"
    }
   ],
   "source": [
    "max(tup3)"
   ]
  },
  {
   "cell_type": "markdown",
   "id": "66cfb1d9",
   "metadata": {},
   "source": [
    "### List \n",
    "---\n",
    "1. order collection of element\n",
    "2. enclosed in [] square braces\n",
    "3. Mutable you can change the value"
   ]
  },
  {
   "cell_type": "code",
   "execution_count": 29,
   "id": "f7c89636",
   "metadata": {},
   "outputs": [
    {
     "data": {
      "text/plain": [
       "['Baba Ammar', 'Hasnain', 20, 2.9, True, False]"
      ]
     },
     "execution_count": 29,
     "metadata": {},
     "output_type": "execute_result"
    }
   ],
   "source": [
    "list1 = ['Baba Ammar','Hasnain',20,2.9,True,False]\n",
    "list1"
   ]
  },
  {
   "cell_type": "code",
   "execution_count": 30,
   "id": "0f01f231",
   "metadata": {},
   "outputs": [
    {
     "data": {
      "text/plain": [
       "['Baba Ammar2', 'Hasnain2', 3.8, 1000]"
      ]
     },
     "execution_count": 30,
     "metadata": {},
     "output_type": "execute_result"
    }
   ],
   "source": [
    "list2 = ['Baba Ammar2','Hasnain2',3.8,1000]\n",
    "list2"
   ]
  },
  {
   "cell_type": "code",
   "execution_count": 31,
   "id": "ee8b928a",
   "metadata": {},
   "outputs": [
    {
     "data": {
      "text/plain": [
       "['Baba Ammar',\n",
       " 'Hasnain',\n",
       " 20,\n",
       " 2.9,\n",
       " True,\n",
       " False,\n",
       " 'Baba Ammar2',\n",
       " 'Hasnain2',\n",
       " 3.8,\n",
       " 1000]"
      ]
     },
     "execution_count": 31,
     "metadata": {},
     "output_type": "execute_result"
    }
   ],
   "source": [
    "list1+list2"
   ]
  },
  {
   "cell_type": "code",
   "execution_count": 32,
   "id": "c4c6817d",
   "metadata": {},
   "outputs": [
    {
     "data": {
      "text/plain": [
       "['Baba Ammar',\n",
       " 'Hasnain',\n",
       " 20,\n",
       " 2.9,\n",
       " True,\n",
       " False,\n",
       " 'Baba Ammar2',\n",
       " 'Hasnain2',\n",
       " 3.8,\n",
       " 1000,\n",
       " 'Baba Ammar2',\n",
       " 'Hasnain2',\n",
       " 3.8,\n",
       " 1000]"
      ]
     },
     "execution_count": 32,
     "metadata": {},
     "output_type": "execute_result"
    }
   ],
   "source": [
    "list1+list2*2"
   ]
  },
  {
   "cell_type": "code",
   "execution_count": 33,
   "id": "b0e2803d",
   "metadata": {},
   "outputs": [
    {
     "data": {
      "text/plain": [
       "list"
      ]
     },
     "execution_count": 33,
     "metadata": {},
     "output_type": "execute_result"
    }
   ],
   "source": [
    "type(list1)"
   ]
  },
  {
   "cell_type": "code",
   "execution_count": 34,
   "id": "0d3760fd",
   "metadata": {},
   "outputs": [
    {
     "data": {
      "text/plain": [
       "6"
      ]
     },
     "execution_count": 34,
     "metadata": {},
     "output_type": "execute_result"
    }
   ],
   "source": [
    "len(list1)"
   ]
  },
  {
   "cell_type": "code",
   "execution_count": 35,
   "id": "108a09e7",
   "metadata": {},
   "outputs": [
    {
     "data": {
      "text/plain": [
       "4"
      ]
     },
     "execution_count": 35,
     "metadata": {},
     "output_type": "execute_result"
    }
   ],
   "source": [
    "len(list2)"
   ]
  },
  {
   "cell_type": "code",
   "execution_count": 40,
   "id": "9b4ab1df",
   "metadata": {},
   "outputs": [
    {
     "data": {
      "text/plain": [
       "[10, 3, 14, 28, 20, 15, 100, 60, 35, 20]"
      ]
     },
     "execution_count": 40,
     "metadata": {},
     "output_type": "execute_result"
    }
   ],
   "source": [
    "list3 =[10,3,14,28,20,15,100,60,35,20]\n",
    "list3"
   ]
  },
  {
   "cell_type": "code",
   "execution_count": 44,
   "id": "5f284c74",
   "metadata": {},
   "outputs": [
    {
     "data": {
      "text/plain": [
       "[3, 10, 14, 15, 20, 20, 28, 35, 60, 100]"
      ]
     },
     "execution_count": 44,
     "metadata": {},
     "output_type": "execute_result"
    }
   ],
   "source": [
    "list3.sort()\n",
    "list3"
   ]
  },
  {
   "cell_type": "code",
   "execution_count": 47,
   "id": "f9208348",
   "metadata": {},
   "outputs": [
    {
     "data": {
      "text/plain": [
       "3"
      ]
     },
     "execution_count": 47,
     "metadata": {},
     "output_type": "execute_result"
    }
   ],
   "source": [
    "list3.index(15)"
   ]
  },
  {
   "cell_type": "code",
   "execution_count": 61,
   "id": "3ed8aaf8",
   "metadata": {},
   "outputs": [
    {
     "data": {
      "text/plain": [
       "[3, 10, 14, 15, 20, 20, 28, 35, 60, 100, 'Hasnain']"
      ]
     },
     "execution_count": 61,
     "metadata": {},
     "output_type": "execute_result"
    }
   ],
   "source": [
    "list3.append('Hasnain')\n",
    "list3\n"
   ]
  },
  {
   "cell_type": "markdown",
   "id": "80f12e4d",
   "metadata": {},
   "source": [
    "## -Dictionaries\n",
    "1. An unorderd collection of element\n",
    "2. key and value\n",
    "3. curely braces {}\n",
    "4. Mutable"
   ]
  },
  {
   "cell_type": "code",
   "execution_count": 74,
   "id": "e78b43f8",
   "metadata": {},
   "outputs": [
    {
     "data": {
      "text/plain": [
       "{'Hasnain': 1000, 'Baba Ammar': 0, 'Asim': 800, 'Adeeba': 1100, 'Bota': 500}"
      ]
     },
     "execution_count": 74,
     "metadata": {},
     "output_type": "execute_result"
    }
   ],
   "source": [
    "Class1= {'Hasnain':1000,'Baba Ammar':0,'Asim':800,'Adeeba':1100,'Bota':500}\n",
    "Class1"
   ]
  },
  {
   "cell_type": "code",
   "execution_count": 76,
   "id": "2894b0e1",
   "metadata": {},
   "outputs": [
    {
     "data": {
      "text/plain": [
       "dict"
      ]
     },
     "execution_count": 76,
     "metadata": {},
     "output_type": "execute_result"
    }
   ],
   "source": [
    "type(Class1)"
   ]
  },
  {
   "cell_type": "code",
   "execution_count": 77,
   "id": "e22704e3",
   "metadata": {},
   "outputs": [],
   "source": [
    "keys1=Class1.keys()"
   ]
  },
  {
   "cell_type": "code",
   "execution_count": 78,
   "id": "fce43845",
   "metadata": {},
   "outputs": [
    {
     "data": {
      "text/plain": [
       "dict_keys(['Hasnain', 'Baba Ammar', 'Asim', 'Adeeba', 'Bota'])"
      ]
     },
     "execution_count": 78,
     "metadata": {},
     "output_type": "execute_result"
    }
   ],
   "source": [
    "keys1"
   ]
  },
  {
   "cell_type": "code",
   "execution_count": 79,
   "id": "188b2d89",
   "metadata": {},
   "outputs": [
    {
     "data": {
      "text/plain": [
       "dict_values([1000, 0, 800, 1100, 500])"
      ]
     },
     "execution_count": 79,
     "metadata": {},
     "output_type": "execute_result"
    }
   ],
   "source": [
    "values1 = Class1.values()\n",
    "values1"
   ]
  },
  {
   "cell_type": "code",
   "execution_count": 80,
   "id": "d3591a1c",
   "metadata": {},
   "outputs": [],
   "source": [
    "#Update Values"
   ]
  },
  {
   "cell_type": "code",
   "execution_count": 81,
   "id": "d492bebb",
   "metadata": {},
   "outputs": [],
   "source": [
    "Class1['Afzal']=700"
   ]
  },
  {
   "cell_type": "code",
   "execution_count": 82,
   "id": "c1d07828",
   "metadata": {},
   "outputs": [
    {
     "data": {
      "text/plain": [
       "{'Hasnain': 1000,\n",
       " 'Baba Ammar': 0,\n",
       " 'Asim': 800,\n",
       " 'Adeeba': 1100,\n",
       " 'Bota': 500,\n",
       " 'Afzal': 700}"
      ]
     },
     "execution_count": 82,
     "metadata": {},
     "output_type": "execute_result"
    }
   ],
   "source": [
    "Class1"
   ]
  },
  {
   "cell_type": "code",
   "execution_count": 83,
   "id": "765b79ad",
   "metadata": {},
   "outputs": [
    {
     "data": {
      "text/plain": [
       "{'Alyaan': 900, 'Komal': 850, 'Sherbaz': 750, 'Iqra': 1200}"
      ]
     },
     "execution_count": 83,
     "metadata": {},
     "output_type": "execute_result"
    }
   ],
   "source": [
    "Class2 ={'Alyaan':900,'Komal':850,'Sherbaz':750,'Iqra':1200}\n",
    "Class2"
   ]
  },
  {
   "cell_type": "code",
   "execution_count": 85,
   "id": "ae352de7",
   "metadata": {},
   "outputs": [],
   "source": [
    "Class1.update(Class2)"
   ]
  },
  {
   "cell_type": "code",
   "execution_count": 86,
   "id": "1938cbf1",
   "metadata": {},
   "outputs": [
    {
     "data": {
      "text/plain": [
       "{'Hasnain': 1000,\n",
       " 'Baba Ammar': 0,\n",
       " 'Asim': 800,\n",
       " 'Adeeba': 1100,\n",
       " 'Bota': 500,\n",
       " 'Afzal': 700,\n",
       " 'Alyaan': 900,\n",
       " 'Komal': 850,\n",
       " 'Sherbaz': 750,\n",
       " 'Iqra': 1200}"
      ]
     },
     "execution_count": 86,
     "metadata": {},
     "output_type": "execute_result"
    }
   ],
   "source": [
    "Class1"
   ]
  },
  {
   "cell_type": "markdown",
   "id": "1b06767c",
   "metadata": {},
   "source": [
    "### Set\n",
    "----\n",
    "- Unorderd and unindexed\n",
    "- curly braces\n",
    "- No duplicates"
   ]
  },
  {
   "cell_type": "code",
   "execution_count": 87,
   "id": "52ac26bc",
   "metadata": {},
   "outputs": [
    {
     "data": {
      "text/plain": [
       "{1, 2.2, 5.2, 'Hasnain', 'Sargodha', 'Silanwali', 'baba Ammar'}"
      ]
     },
     "execution_count": 87,
     "metadata": {},
     "output_type": "execute_result"
    }
   ],
   "source": [
    "Qau = {1,2.2,5.2,\"baba Ammar\",'Hasnain',\"Sargodha\",'Silanwali'}\n",
    "Qau"
   ]
  },
  {
   "cell_type": "code",
   "execution_count": 88,
   "id": "333ecc40",
   "metadata": {},
   "outputs": [
    {
     "data": {
      "text/plain": [
       "{1, 2.2, 5.2, 'Hasnain', 'Nouman', 'Sargodha', 'Silanwali', 'baba Ammar'}"
      ]
     },
     "execution_count": 88,
     "metadata": {},
     "output_type": "execute_result"
    }
   ],
   "source": [
    "Qau.add(\"Nouman\")\n",
    "Qau"
   ]
  },
  {
   "cell_type": "code",
   "execution_count": 95,
   "id": "f86c99f5",
   "metadata": {},
   "outputs": [
    {
     "data": {
      "text/plain": [
       "{1,\n",
       " 2.2,\n",
       " 5.2,\n",
       " 'A',\n",
       " 'H',\n",
       " 'Hasnain',\n",
       " 'Nouman',\n",
       " 'S',\n",
       " 'Sargodha',\n",
       " 'Silanwali',\n",
       " 'a',\n",
       " 'baba Ammar',\n",
       " 'h',\n",
       " 'l',\n",
       " 'n',\n",
       " 'u'}"
      ]
     },
     "execution_count": 95,
     "metadata": {},
     "output_type": "execute_result"
    }
   ],
   "source": [
    "Qau.update(\"HA\")\n",
    "Qau"
   ]
  },
  {
   "cell_type": "code",
   "execution_count": 98,
   "id": "ccaa40aa",
   "metadata": {},
   "outputs": [
    {
     "data": {
      "text/plain": [
       "{1,\n",
       " 2.2,\n",
       " 5.2,\n",
       " 'A',\n",
       " 'H',\n",
       " 'Nouman',\n",
       " 'S',\n",
       " 'Sargodha',\n",
       " 'Silanwali',\n",
       " 'a',\n",
       " 'baba Ammar',\n",
       " 'h',\n",
       " 'l',\n",
       " 'n',\n",
       " 'u'}"
      ]
     },
     "execution_count": 98,
     "metadata": {},
     "output_type": "execute_result"
    }
   ],
   "source": [
    "Qau.remove(\"Hasnain\")\n",
    "Qau"
   ]
  },
  {
   "cell_type": "code",
   "execution_count": 99,
   "id": "3184bf01",
   "metadata": {},
   "outputs": [
    {
     "data": {
      "text/plain": [
       "{1,\n",
       " 2.2,\n",
       " 5.2,\n",
       " 'A',\n",
       " 'H',\n",
       " 'Nouman',\n",
       " 'S',\n",
       " 'Sargodha',\n",
       " 'Silanwali',\n",
       " 'a',\n",
       " 'baba Ammar',\n",
       " 'h',\n",
       " 'l',\n",
       " 'n',\n",
       " 'u'}"
      ]
     },
     "execution_count": 99,
     "metadata": {},
     "output_type": "execute_result"
    }
   ],
   "source": [
    "Qau.issubset(Qau)\n",
    "Qau"
   ]
  },
  {
   "cell_type": "code",
   "execution_count": 102,
   "id": "5da19bd0",
   "metadata": {},
   "outputs": [
    {
     "data": {
      "text/plain": [
       "{1,\n",
       " 2.2,\n",
       " 5.2,\n",
       " 'A',\n",
       " 'H',\n",
       " 'Nouman',\n",
       " 'S',\n",
       " 'Sargodha',\n",
       " 'Silanwali',\n",
       " 'a',\n",
       " 'baba Ammar',\n",
       " 'h',\n",
       " 'l',\n",
       " 'n',\n",
       " 'u'}"
      ]
     },
     "execution_count": 102,
     "metadata": {},
     "output_type": "execute_result"
    }
   ],
   "source": [
    "Qau.issuperset(Qau)\n",
    "Qau"
   ]
  }
 ],
 "metadata": {
  "kernelspec": {
   "display_name": "Python 3 (ipykernel)",
   "language": "python",
   "name": "python3"
  },
  "language_info": {
   "codemirror_mode": {
    "name": "ipython",
    "version": 3
   },
   "file_extension": ".py",
   "mimetype": "text/x-python",
   "name": "python",
   "nbconvert_exporter": "python",
   "pygments_lexer": "ipython3",
   "version": "3.9.7"
  }
 },
 "nbformat": 4,
 "nbformat_minor": 5
}
