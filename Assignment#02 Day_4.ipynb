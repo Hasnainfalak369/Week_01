{
 "cells": [
  {
   "cell_type": "markdown",
   "id": "071bfdaa",
   "metadata": {},
   "source": [
    "# Learn_python_ka_chilla_with_Baba_Ammar_Day_4\n",
    "----"
   ]
  },
  {
   "cell_type": "markdown",
   "id": "eace9c54",
   "metadata": {},
   "source": [
    "### Tittle \"Research Scholar\"\n",
    "### Name \"Muhammad Hasnain\"\n",
    "### Email \"mhasnain@ele.qau.edu.pk\"\n",
    "### Whatsapp no \"+923006712492\"\n",
    "----"
   ]
  },
  {
   "cell_type": "markdown",
   "id": "503cb810",
   "metadata": {},
   "source": [
    "## Class Survey\n",
    "---"
   ]
  },
  {
   "cell_type": "code",
   "execution_count": 1,
   "id": "0f921c29",
   "metadata": {},
   "outputs": [],
   "source": [
    "import seaborn as sns\n",
    "import matplotlib.pyplot as plt\n",
    "import numpy as np\n",
    "import pandas as pd"
   ]
  },
  {
   "cell_type": "code",
   "execution_count": 2,
   "id": "917bf690",
   "metadata": {},
   "outputs": [
    {
     "data": {
      "text/html": [
       "<div>\n",
       "<style scoped>\n",
       "    .dataframe tbody tr th:only-of-type {\n",
       "        vertical-align: middle;\n",
       "    }\n",
       "\n",
       "    .dataframe tbody tr th {\n",
       "        vertical-align: top;\n",
       "    }\n",
       "\n",
       "    .dataframe thead th {\n",
       "        text-align: right;\n",
       "    }\n",
       "</style>\n",
       "<table border=\"1\" class=\"dataframe\">\n",
       "  <thead>\n",
       "    <tr style=\"text-align: right;\">\n",
       "      <th></th>\n",
       "      <th>Timestamp</th>\n",
       "      <th>Gender</th>\n",
       "      <th>Location</th>\n",
       "      <th>Age</th>\n",
       "      <th>Qualification_completed</th>\n",
       "      <th>field_of_study</th>\n",
       "      <th>Purpose_for_chilla</th>\n",
       "      <th>Research/Working experience (Float/Int) years</th>\n",
       "      <th>Age (years)-Float/Int</th>\n",
       "      <th>What are you?</th>\n",
       "      <th>...</th>\n",
       "      <th>Your Weight in kg? (float)</th>\n",
       "      <th>Height in cm? Freelancer- (Float)</th>\n",
       "      <th>Do you wear glasses?</th>\n",
       "      <th>When did you write your first line of code?</th>\n",
       "      <th>Your favorite programming language?</th>\n",
       "      <th>Marital Status?</th>\n",
       "      <th>How many hours you code a day? (int) e.g: 5,4,3</th>\n",
       "      <th>Are you Vaccinated?</th>\n",
       "      <th>Light kitni der band hti hy? int</th>\n",
       "      <th>Where do you live?</th>\n",
       "    </tr>\n",
       "  </thead>\n",
       "  <tbody>\n",
       "    <tr>\n",
       "      <th>0</th>\n",
       "      <td>1/4/2022 18:02:51</td>\n",
       "      <td>Male</td>\n",
       "      <td>Pakistan</td>\n",
       "      <td>36-40</td>\n",
       "      <td>Masters</td>\n",
       "      <td>Natural Sciences</td>\n",
       "      <td>to boost my skill set</td>\n",
       "      <td>5</td>\n",
       "      <td>38</td>\n",
       "      <td>Unemplyed</td>\n",
       "      <td>...</td>\n",
       "      <td>77</td>\n",
       "      <td>179</td>\n",
       "      <td>No</td>\n",
       "      <td>&gt;3 years ago</td>\n",
       "      <td>Python</td>\n",
       "      <td>Yes</td>\n",
       "      <td>3</td>\n",
       "      <td>Yes</td>\n",
       "      <td>2</td>\n",
       "      <td>Urbun</td>\n",
       "    </tr>\n",
       "    <tr>\n",
       "      <th>1</th>\n",
       "      <td>1/4/2022 18:02:59</td>\n",
       "      <td>Male</td>\n",
       "      <td>Pakistan</td>\n",
       "      <td>26-30</td>\n",
       "      <td>Bachelors</td>\n",
       "      <td>CS/IT</td>\n",
       "      <td>to boost my skill set</td>\n",
       "      <td>1</td>\n",
       "      <td>25</td>\n",
       "      <td>Student</td>\n",
       "      <td>...</td>\n",
       "      <td>53.6</td>\n",
       "      <td>178</td>\n",
       "      <td>No</td>\n",
       "      <td>&gt;3 years ago</td>\n",
       "      <td>Python</td>\n",
       "      <td>No</td>\n",
       "      <td>2</td>\n",
       "      <td>Yes</td>\n",
       "      <td>6</td>\n",
       "      <td>Urbun</td>\n",
       "    </tr>\n",
       "    <tr>\n",
       "      <th>2</th>\n",
       "      <td>1/4/2022 18:03:02</td>\n",
       "      <td>Male</td>\n",
       "      <td>Pakistan</td>\n",
       "      <td>31-35</td>\n",
       "      <td>Masters</td>\n",
       "      <td>Enginnering</td>\n",
       "      <td>Switch my field of study</td>\n",
       "      <td>5.5</td>\n",
       "      <td>31.34</td>\n",
       "      <td>Employed</td>\n",
       "      <td>...</td>\n",
       "      <td>93</td>\n",
       "      <td>173</td>\n",
       "      <td>Yes</td>\n",
       "      <td>&gt;3 years ago</td>\n",
       "      <td>Python</td>\n",
       "      <td>Yes</td>\n",
       "      <td>2</td>\n",
       "      <td>Yes</td>\n",
       "      <td>0</td>\n",
       "      <td>Urbun</td>\n",
       "    </tr>\n",
       "    <tr>\n",
       "      <th>3</th>\n",
       "      <td>1/4/2022 18:03:03</td>\n",
       "      <td>Female</td>\n",
       "      <td>Pakistan</td>\n",
       "      <td>31-35</td>\n",
       "      <td>Masters</td>\n",
       "      <td>CS/IT</td>\n",
       "      <td>to boost my skill set</td>\n",
       "      <td>5</td>\n",
       "      <td>33</td>\n",
       "      <td>Employed</td>\n",
       "      <td>...</td>\n",
       "      <td>60</td>\n",
       "      <td>157</td>\n",
       "      <td>No</td>\n",
       "      <td>&lt;3 years ago</td>\n",
       "      <td>Python</td>\n",
       "      <td>Yes</td>\n",
       "      <td>3</td>\n",
       "      <td>Yes</td>\n",
       "      <td>Pora din</td>\n",
       "      <td>Urbun</td>\n",
       "    </tr>\n",
       "    <tr>\n",
       "      <th>4</th>\n",
       "      <td>1/4/2022 18:03:06</td>\n",
       "      <td>Female</td>\n",
       "      <td>Pakistan</td>\n",
       "      <td>26-30</td>\n",
       "      <td>Masters</td>\n",
       "      <td>Enginnering</td>\n",
       "      <td>to boost my skill set</td>\n",
       "      <td>3.5</td>\n",
       "      <td>27</td>\n",
       "      <td>Student</td>\n",
       "      <td>...</td>\n",
       "      <td>59.9</td>\n",
       "      <td>164.544</td>\n",
       "      <td>Yes</td>\n",
       "      <td>In this chilla</td>\n",
       "      <td>Javascript</td>\n",
       "      <td>No</td>\n",
       "      <td>6</td>\n",
       "      <td>Yes</td>\n",
       "      <td>12</td>\n",
       "      <td>Rural</td>\n",
       "    </tr>\n",
       "    <tr>\n",
       "      <th>...</th>\n",
       "      <td>...</td>\n",
       "      <td>...</td>\n",
       "      <td>...</td>\n",
       "      <td>...</td>\n",
       "      <td>...</td>\n",
       "      <td>...</td>\n",
       "      <td>...</td>\n",
       "      <td>...</td>\n",
       "      <td>...</td>\n",
       "      <td>...</td>\n",
       "      <td>...</td>\n",
       "      <td>...</td>\n",
       "      <td>...</td>\n",
       "      <td>...</td>\n",
       "      <td>...</td>\n",
       "      <td>...</td>\n",
       "      <td>...</td>\n",
       "      <td>...</td>\n",
       "      <td>...</td>\n",
       "      <td>...</td>\n",
       "      <td>...</td>\n",
       "    </tr>\n",
       "    <tr>\n",
       "      <th>370</th>\n",
       "      <td>1/4/2022 18:55:32</td>\n",
       "      <td>Male</td>\n",
       "      <td>Pakistan</td>\n",
       "      <td>26-30</td>\n",
       "      <td>Masters</td>\n",
       "      <td>Enginnering</td>\n",
       "      <td>to boost my skill set</td>\n",
       "      <td>7</td>\n",
       "      <td>28</td>\n",
       "      <td>Employed</td>\n",
       "      <td>...</td>\n",
       "      <td>70.5</td>\n",
       "      <td>178.5</td>\n",
       "      <td>Yes</td>\n",
       "      <td>In this chilla</td>\n",
       "      <td>R</td>\n",
       "      <td>Yes</td>\n",
       "      <td>4</td>\n",
       "      <td>Yes</td>\n",
       "      <td>3</td>\n",
       "      <td>Rural</td>\n",
       "    </tr>\n",
       "    <tr>\n",
       "      <th>371</th>\n",
       "      <td>1/4/2022 18:55:54</td>\n",
       "      <td>Male</td>\n",
       "      <td>Pakistan</td>\n",
       "      <td>31-35</td>\n",
       "      <td>Bachelors</td>\n",
       "      <td>Enginnering</td>\n",
       "      <td>to boost my skill set</td>\n",
       "      <td>5</td>\n",
       "      <td>33</td>\n",
       "      <td>Employed</td>\n",
       "      <td>...</td>\n",
       "      <td>83.4</td>\n",
       "      <td>172.7</td>\n",
       "      <td>Yes</td>\n",
       "      <td>&gt;3 years ago</td>\n",
       "      <td>Python</td>\n",
       "      <td>Yes</td>\n",
       "      <td>1</td>\n",
       "      <td>Yes</td>\n",
       "      <td>1</td>\n",
       "      <td>Urbun</td>\n",
       "    </tr>\n",
       "    <tr>\n",
       "      <th>372</th>\n",
       "      <td>1/4/2022 18:56:27</td>\n",
       "      <td>Male</td>\n",
       "      <td>Pakistan</td>\n",
       "      <td>21-25</td>\n",
       "      <td>Bachelors</td>\n",
       "      <td>CS/IT</td>\n",
       "      <td>to boost my skill set</td>\n",
       "      <td>0</td>\n",
       "      <td>22.8</td>\n",
       "      <td>Employed</td>\n",
       "      <td>...</td>\n",
       "      <td>60</td>\n",
       "      <td>1.68</td>\n",
       "      <td>No</td>\n",
       "      <td>&gt;3 years ago</td>\n",
       "      <td>Python</td>\n",
       "      <td>No</td>\n",
       "      <td>0</td>\n",
       "      <td>Yes</td>\n",
       "      <td>0</td>\n",
       "      <td>Urbun</td>\n",
       "    </tr>\n",
       "    <tr>\n",
       "      <th>373</th>\n",
       "      <td>1/4/2022 18:59:42</td>\n",
       "      <td>Male</td>\n",
       "      <td>Pakistan</td>\n",
       "      <td>26-30</td>\n",
       "      <td>Masters</td>\n",
       "      <td>Enginnering</td>\n",
       "      <td>to boost my skill set</td>\n",
       "      <td>2</td>\n",
       "      <td>29</td>\n",
       "      <td>Employed</td>\n",
       "      <td>...</td>\n",
       "      <td>86</td>\n",
       "      <td>180</td>\n",
       "      <td>No</td>\n",
       "      <td>&lt;3 years ago</td>\n",
       "      <td>Python</td>\n",
       "      <td>No</td>\n",
       "      <td>2</td>\n",
       "      <td>No</td>\n",
       "      <td>1</td>\n",
       "      <td>Urbun</td>\n",
       "    </tr>\n",
       "    <tr>\n",
       "      <th>374</th>\n",
       "      <td>1/4/2022 19:02:35</td>\n",
       "      <td>Female</td>\n",
       "      <td>Pakistan</td>\n",
       "      <td>31-35</td>\n",
       "      <td>Masters</td>\n",
       "      <td>Mathematics</td>\n",
       "      <td>Switch my field of study</td>\n",
       "      <td>3</td>\n",
       "      <td>31</td>\n",
       "      <td>Unemplyed</td>\n",
       "      <td>...</td>\n",
       "      <td>54.5</td>\n",
       "      <td>161.544</td>\n",
       "      <td>Yes</td>\n",
       "      <td>In this chilla</td>\n",
       "      <td>Python</td>\n",
       "      <td>Yes</td>\n",
       "      <td>3</td>\n",
       "      <td>Yes</td>\n",
       "      <td>0</td>\n",
       "      <td>Urbun</td>\n",
       "    </tr>\n",
       "  </tbody>\n",
       "</table>\n",
       "<p>375 rows × 26 columns</p>\n",
       "</div>"
      ],
      "text/plain": [
       "             Timestamp  Gender  Location    Age Qualification_completed  \\\n",
       "0    1/4/2022 18:02:51    Male  Pakistan  36-40                 Masters   \n",
       "1    1/4/2022 18:02:59    Male  Pakistan  26-30               Bachelors   \n",
       "2    1/4/2022 18:03:02    Male  Pakistan  31-35                 Masters   \n",
       "3    1/4/2022 18:03:03  Female  Pakistan  31-35                 Masters   \n",
       "4    1/4/2022 18:03:06  Female  Pakistan  26-30                 Masters   \n",
       "..                 ...     ...       ...    ...                     ...   \n",
       "370  1/4/2022 18:55:32    Male  Pakistan  26-30                 Masters   \n",
       "371  1/4/2022 18:55:54    Male  Pakistan  31-35               Bachelors   \n",
       "372  1/4/2022 18:56:27    Male  Pakistan  21-25               Bachelors   \n",
       "373  1/4/2022 18:59:42    Male  Pakistan  26-30                 Masters   \n",
       "374  1/4/2022 19:02:35  Female  Pakistan  31-35                 Masters   \n",
       "\n",
       "       field_of_study        Purpose_for_chilla  \\\n",
       "0    Natural Sciences     to boost my skill set   \n",
       "1               CS/IT     to boost my skill set   \n",
       "2         Enginnering  Switch my field of study   \n",
       "3               CS/IT     to boost my skill set   \n",
       "4         Enginnering     to boost my skill set   \n",
       "..                ...                       ...   \n",
       "370       Enginnering     to boost my skill set   \n",
       "371       Enginnering     to boost my skill set   \n",
       "372             CS/IT     to boost my skill set   \n",
       "373       Enginnering     to boost my skill set   \n",
       "374       Mathematics  Switch my field of study   \n",
       "\n",
       "    Research/Working experience (Float/Int) years Age (years)-Float/Int  \\\n",
       "0                                               5                    38   \n",
       "1                                               1                    25   \n",
       "2                                             5.5                 31.34   \n",
       "3                                               5                    33   \n",
       "4                                             3.5                    27   \n",
       "..                                            ...                   ...   \n",
       "370                                             7                    28   \n",
       "371                                             5                    33   \n",
       "372                                             0                  22.8   \n",
       "373                                             2                    29   \n",
       "374                                             3                    31   \n",
       "\n",
       "    What are you?  ... Your Weight in kg? (float)  \\\n",
       "0       Unemplyed  ...                         77   \n",
       "1         Student  ...                       53.6   \n",
       "2        Employed  ...                         93   \n",
       "3        Employed  ...                         60   \n",
       "4         Student  ...                       59.9   \n",
       "..            ...  ...                        ...   \n",
       "370      Employed  ...                       70.5   \n",
       "371      Employed  ...                       83.4   \n",
       "372      Employed  ...                         60   \n",
       "373      Employed  ...                         86   \n",
       "374     Unemplyed  ...                       54.5   \n",
       "\n",
       "    Height in cm? Freelancer- (Float) Do you wear glasses?  \\\n",
       "0                                 179                   No   \n",
       "1                                 178                   No   \n",
       "2                                 173                  Yes   \n",
       "3                                 157                   No   \n",
       "4                             164.544                  Yes   \n",
       "..                                ...                  ...   \n",
       "370                             178.5                  Yes   \n",
       "371                             172.7                  Yes   \n",
       "372                              1.68                   No   \n",
       "373                               180                   No   \n",
       "374                           161.544                  Yes   \n",
       "\n",
       "    When did you write your first line of code?  \\\n",
       "0                                  >3 years ago   \n",
       "1                                  >3 years ago   \n",
       "2                                  >3 years ago   \n",
       "3                                  <3 years ago   \n",
       "4                                In this chilla   \n",
       "..                                          ...   \n",
       "370                              In this chilla   \n",
       "371                                >3 years ago   \n",
       "372                                >3 years ago   \n",
       "373                                <3 years ago   \n",
       "374                              In this chilla   \n",
       "\n",
       "    Your favorite programming language? Marital Status?  \\\n",
       "0                                Python             Yes   \n",
       "1                                Python              No   \n",
       "2                                Python             Yes   \n",
       "3                                Python             Yes   \n",
       "4                            Javascript              No   \n",
       "..                                  ...             ...   \n",
       "370                                   R             Yes   \n",
       "371                              Python             Yes   \n",
       "372                              Python              No   \n",
       "373                              Python              No   \n",
       "374                              Python             Yes   \n",
       "\n",
       "    How many hours you code a day? (int) e.g: 5,4,3 Are you Vaccinated?  \\\n",
       "0                                                 3                 Yes   \n",
       "1                                                 2                 Yes   \n",
       "2                                                 2                 Yes   \n",
       "3                                                 3                 Yes   \n",
       "4                                                 6                 Yes   \n",
       "..                                              ...                 ...   \n",
       "370                                               4                 Yes   \n",
       "371                                               1                 Yes   \n",
       "372                                               0                 Yes   \n",
       "373                                               2                  No   \n",
       "374                                               3                 Yes   \n",
       "\n",
       "    Light kitni der band hti hy? int Where do you live?  \n",
       "0                                  2              Urbun  \n",
       "1                                  6              Urbun  \n",
       "2                                  0              Urbun  \n",
       "3                           Pora din              Urbun  \n",
       "4                                 12              Rural  \n",
       "..                               ...                ...  \n",
       "370                                3              Rural  \n",
       "371                                1              Urbun  \n",
       "372                                0              Urbun  \n",
       "373                                1              Urbun  \n",
       "374                                0              Urbun  \n",
       "\n",
       "[375 rows x 26 columns]"
      ]
     },
     "execution_count": 2,
     "metadata": {},
     "output_type": "execute_result"
    }
   ],
   "source": [
    "AsignmentDay4 = pd.read_csv(\"E:\\\\Python Chilla\\\\Data_chilla.csv\")\n",
    "AsignmentDay4"
   ]
  },
  {
   "cell_type": "code",
   "execution_count": 3,
   "id": "927afe75",
   "metadata": {},
   "outputs": [
    {
     "data": {
      "text/plain": [
       "Text(0.5, 1.0, 'Day4 Surrvey')"
      ]
     },
     "execution_count": 3,
     "metadata": {},
     "output_type": "execute_result"
    },
    {
     "data": {
      "image/png": "[encoded data removed]",
      "text/plain": [
       "<Figure size 432x288 with 1 Axes>"
      ]
     },
     "metadata": {
      "needs_background": "light"
     },
     "output_type": "display_data"
    }
   ],
   "source": [
    "sns.lineplot( x=\"Gender\",y=\"Age\" , data= AsignmentDay4)\n",
    "plt.title(\"Day4 Surrvey\")"
   ]
  },
  {
   "cell_type": "code",
   "execution_count": 4,
   "id": "d74a28d7",
   "metadata": {},
   "outputs": [
    {
     "data": {
      "text/plain": [
       "Text(0.5, 1.0, 'Day4 Surrvey')"
      ]
     },
     "execution_count": 4,
     "metadata": {},
     "output_type": "execute_result"
    },
    {
     "data": {
      "image/png": "[encoded data removed]",
      "text/plain": [
       "<Figure size 360x360 with 1 Axes>"
      ]
     },
     "metadata": {
      "needs_background": "light"
     },
     "output_type": "display_data"
    }
   ],
   "source": [
    "sns.displot( x=\"Where do you live?\",y=\"Location\" , data= AsignmentDay4)\n",
    "plt.title(\"Day4 Surrvey\")"
   ]
  },
  {
   "cell_type": "code",
   "execution_count": 5,
   "id": "1d28506c",
   "metadata": {},
   "outputs": [
    {
     "data": {
      "text/plain": [
       "Text(0.5, 1.0, 'Day4 Surrvey')"
      ]
     },
     "execution_count": 5,
     "metadata": {},
     "output_type": "execute_result"
    },
    {
     "data": {
      "image/png": "[encoded data removed]",
      "text/plain": [
       "<Figure size 360x360 with 1 Axes>"
      ]
     },
     "metadata": {
      "needs_background": "light"
     },
     "output_type": "display_data"
    }
   ],
   "source": [
    "sns.catplot( x=\"Where do you live?\",y=\"Age\" , data= AsignmentDay4)\n",
    "plt.title(\"Day4 Surrvey\")"
   ]
  },
  {
   "cell_type": "code",
   "execution_count": 6,
   "id": "ed492484",
   "metadata": {},
   "outputs": [
    {
     "data": {
      "text/plain": [
       "Text(0.5, 1.0, 'Day4 Surrvey')"
      ]
     },
     "execution_count": 6,
     "metadata": {},
     "output_type": "execute_result"
    },
    {
     "data": {
      "image/png": "[encoded data removed]",
      "text/plain": [
       "<Figure size 432x432 with 3 Axes>"
      ]
     },
     "metadata": {
      "needs_background": "light"
     },
     "output_type": "display_data"
    }
   ],
   "source": [
    "sns.jointplot( x=\"Do you wear glasses?\",y=\"Your favorite programming language?\" , data= AsignmentDay4)\n",
    "plt.title(\"Day4 Surrvey\")"
   ]
  },
  {
   "cell_type": "code",
   "execution_count": 7,
   "id": "14ba8b5a",
   "metadata": {},
   "outputs": [
    {
     "data": {
      "text/plain": [
       "Text(0.5, 1.0, 'Day4 Surrvey')"
      ]
     },
     "execution_count": 7,
     "metadata": {},
     "output_type": "execute_result"
    },
    {
     "data": {
      "image/png": "[encoded data removed]",
      "text/plain": [
       "<Figure size 360x360 with 1 Axes>"
      ]
     },
     "metadata": {
      "needs_background": "light"
     },
     "output_type": "display_data"
    }
   ],
   "source": [
    "sns.displot( x=\"Gender\",y=\"Purpose_for_chilla\" , data= AsignmentDay4)\n",
    "plt.title(\"Day4 Surrvey\")"
   ]
  },
  {
   "cell_type": "code",
   "execution_count": 13,
   "id": "0b3c8169",
   "metadata": {},
   "outputs": [
    {
     "data": {
      "text/plain": [
       "Text(0.5, 1.0, 'Day4 Surrvey')"
      ]
     },
     "execution_count": 13,
     "metadata": {},
     "output_type": "execute_result"
    },
    {
     "data": {
      "image/png": "[encoded data removed]",
      "text/plain": [
       "<Figure size 432x432 with 3 Axes>"
      ]
     },
     "metadata": {
      "needs_background": "light"
     },
     "output_type": "display_data"
    }
   ],
   "source": [
    "sns.jointplot( x=\"Gender\",y=\"Marital Status?\" , data= AsignmentDay4)\n",
    "plt.title(\"Day4 Surrvey\")"
   ]
  },
  {
   "cell_type": "code",
   "execution_count": 28,
   "id": "5175a5d8",
   "metadata": {},
   "outputs": [
    {
     "data": {
      "text/plain": [
       "Text(0.5, 1.0, 'Day4 Surrvey')"
      ]
     },
     "execution_count": 28,
     "metadata": {},
     "output_type": "execute_result"
    },
    {
     "data": {
      "image/png": "[encoded data removed]",
      "text/plain": [
       "<Figure size 360x360 with 1 Axes>"
      ]
     },
     "metadata": {},
     "output_type": "display_data"
    }
   ],
   "source": [
    "sns.displot( x=\"Gender\",y=\"Purpose_for_chilla\" , data= AsignmentDay4)\n",
    "sns.set_style(\"dark\")\n",
    "plt.xlim(0)\n",
    "plt.ylim(0)\n",
    "plt.title(\"Day4 Surrvey\")"
   ]
  },
  {
   "cell_type": "code",
   "execution_count": 27,
   "id": "519b9775",
   "metadata": {},
   "outputs": [
    {
     "data": {
      "text/plain": [
       "Text(0.5, 1.0, 'Day4 Surrvey')"
      ]
     },
     "execution_count": 27,
     "metadata": {},
     "output_type": "execute_result"
    },
    {
     "data": {
      "image/png": "[encoded data removed]",
      "text/plain": [
       "<Figure size 360x360 with 1 Axes>"
      ]
     },
     "metadata": {},
     "output_type": "display_data"
    }
   ],
   "source": [
    "sns.displot( x=\"Gender\",y=\"Purpose_for_chilla\" , data= AsignmentDay4)\n",
    "sns.set_style(\"dark\")\n",
    "plt.xlim(1)\n",
    "plt.ylim(2)\n",
    "plt.title(\"Day4 Surrvey\")"
   ]
  },
  {
   "cell_type": "code",
   "execution_count": 31,
   "id": "97915909",
   "metadata": {},
   "outputs": [
    {
     "name": "stderr",
     "output_type": "stream",
     "text": [
      "C:\\Users\\user\\AppData\\Local\\Temp/ipykernel_7708/393440083.py:4: UserWarning: Attempting to set identical left == right == 1 results in singular transformations; automatically expanding.\n",
      "  plt.xlim(1)\n"
     ]
    },
    {
     "data": {
      "text/plain": [
       "Text(0.5, 1.0, 'Day4 Surrvey')"
      ]
     },
     "execution_count": 31,
     "metadata": {},
     "output_type": "execute_result"
    },
    {
     "data": {
      "image/png": "[encoded data removed]",
      "text/plain": [
       "<Figure size 360x360 with 1 Axes>"
      ]
     },
     "metadata": {},
     "output_type": "display_data"
    },
    {
     "data": {
      "image/png": "[encoded data removed]",
      "text/plain": [
       "<Figure size 288x216 with 1 Axes>"
      ]
     },
     "metadata": {},
     "output_type": "display_data"
    }
   ],
   "source": [
    "sns.catplot( x=\"Gender\",y=\"Purpose_for_chilla\" , data= AsignmentDay4)\n",
    "plt.figure(figsize=(4,3))\n",
    "sns.set_style(\"dark\")\n",
    "plt.xlim(1)\n",
    "plt.ylim(2)\n",
    "plt.title(\"Day4 Surrvey\")"
   ]
  },
  {
   "cell_type": "code",
   "execution_count": 41,
   "id": "df499034",
   "metadata": {},
   "outputs": [
    {
     "name": "stderr",
     "output_type": "stream",
     "text": [
      "C:\\Users\\user\\AppData\\Local\\Temp/ipykernel_7708/393440083.py:4: UserWarning: Attempting to set identical left == right == 1 results in singular transformations; automatically expanding.\n",
      "  plt.xlim(1)\n"
     ]
    },
    {
     "data": {
      "text/plain": [
       "Text(0.5, 1.0, 'Day4 Surrvey')"
      ]
     },
     "execution_count": 41,
     "metadata": {},
     "output_type": "execute_result"
    },
    {
     "data": {
      "image/png": "[encoded data removed]",
      "text/plain": [
       "<Figure size 360x360 with 1 Axes>"
      ]
     },
     "metadata": {},
     "output_type": "display_data"
    },
    {
     "data": {
      "image/png": "[encoded data removed]",
      "text/plain": [
       "<Figure size 288x216 with 1 Axes>"
      ]
     },
     "metadata": {},
     "output_type": "display_data"
    }
   ],
   "source": [
    "sns.catplot( x=\"Gender\",y=\"Purpose_for_chilla\" , data= AsignmentDay4)\n",
    "plt.figure(figsize=(4,3))\n",
    "sns.set_style(\"dark\")\n",
    "plt.xlim(1)\n",
    "plt.ylim(2)\n",
    "plt.title(\"Day4 Surrvey\")"
   ]
  },
  {
   "cell_type": "code",
   "execution_count": 43,
   "id": "0b56692e",
   "metadata": {},
   "outputs": [
    {
     "name": "stderr",
     "output_type": "stream",
     "text": [
      "C:\\Users\\user\\AppData\\Local\\Temp/ipykernel_7708/1446215770.py:4: UserWarning: Attempting to set identical left == right == 1 results in singular transformations; automatically expanding.\n",
      "  plt.xlim(1)\n"
     ]
    },
    {
     "data": {
      "text/plain": [
       "Text(0.5, 1.0, 'Day4 Surrvey')"
      ]
     },
     "execution_count": 43,
     "metadata": {},
     "output_type": "execute_result"
    },
    {
     "data": {
      "image/png": "[encoded data removed]",
      "text/plain": [
       "<Figure size 360x360 with 1 Axes>"
      ]
     },
     "metadata": {},
     "output_type": "display_data"
    },
    {
     "data": {
      "image/png": "[encoded data removed]",
      "text/plain": [
       "<Figure size 288x216 with 1 Axes>"
      ]
     },
     "metadata": {},
     "output_type": "display_data"
    }
   ],
   "source": [
    "sns.catplot( x=\"Gender\",y=\"Purpose_for_chilla\" , data= AsignmentDay4, color=\"Green\",palette= \"colorblind\")\n",
    "plt.figure(figsize=(4,3))\n",
    "sns.set_style(\"dark\")\n",
    "plt.xlim(1)\n",
    "plt.ylim(2)\n",
    "plt.title(\"Day4 Surrvey\")"
   ]
  }
 ],
 "metadata": {
  "kernelspec": {
   "display_name": "Python 3 (ipykernel)",
   "language": "python",
   "name": "python3"
  },
  "language_info": {
   "codemirror_mode": {
    "name": "ipython",
    "version": 3
   },
   "file_extension": ".py",
   "mimetype": "text/x-python",
   "name": "python",
   "nbconvert_exporter": "python",
   "pygments_lexer": "ipython3",
   "version": "3.9.7"
  }
 },
 "nbformat": 4,
 "nbformat_minor": 5
}
